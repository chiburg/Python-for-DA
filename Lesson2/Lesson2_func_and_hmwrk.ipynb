{
 "cells": [
  {
   "cell_type": "code",
   "execution_count": 5,
   "id": "66fe34f7-4b89-413b-8d35-26a49f2d1493",
   "metadata": {},
   "outputs": [
    {
     "data": {
      "text/plain": [
       "'Hello!'"
      ]
     },
     "execution_count": 5,
     "metadata": {},
     "output_type": "execute_result"
    }
   ],
   "source": [
    "# найпростіша функція\n",
    "def my_func():\n",
    "    f = 'Hello!'\n",
    "    return f\n",
    "my_func()"
   ]
  },
  {
   "cell_type": "code",
   "execution_count": 21,
   "id": "9873aaf2-137e-426f-8a53-e51fb7e7c8a9",
   "metadata": {},
   "outputs": [
    {
     "name": "stdout",
     "output_type": "stream",
     "text": [
      "f 7\n",
      "7\n"
     ]
    }
   ],
   "source": [
    "# функція зі змінною кількістю аргументів\n",
    "def my_sum(a, b, *c, **d):\n",
    "    summa = a + b\n",
    "    for a,s in d.items():\n",
    "        print(a, s)\n",
    "    return summa\n",
    "\n",
    "print(my_sum(2, 5, 6, 55, f=7))"
   ]
  },
  {
   "cell_type": "code",
   "execution_count": 8,
   "id": "770fbafe-9dee-41cd-816b-a3a3a6ef14f5",
   "metadata": {},
   "outputs": [
    {
     "name": "stdout",
     "output_type": "stream",
     "text": [
      "7\n"
     ]
    }
   ],
   "source": [
    "# лямбда-функція\n",
    "sum_lambda = lambda x, y: x + y\n",
    "print(sum_lambda(3, 4))"
   ]
  },
  {
   "cell_type": "code",
   "execution_count": 16,
   "id": "f09d662b-9072-4cdc-b67b-49471df09cdc",
   "metadata": {},
   "outputs": [
    {
     "name": "stdin",
     "output_type": "stream",
     "text": [
      "Enter integer (0 for output):  10\n",
      "Enter integer (0 for output):  13\n",
      "Enter integer (0 for output):  73\n",
      "Enter integer (0 for output):  0\n"
     ]
    },
    {
     "name": "stdout",
     "output_type": "stream",
     "text": [
      "2847\n"
     ]
    }
   ],
   "source": [
    "# подвійний цикл з домашки\n",
    "# реалізовано як в тесті\n",
    "\n",
    "num = int(input(\"Enter integer (0 for output): \"))\n",
    "sum = 0\n",
    "while num != 0:\n",
    "    for i in range (num+1):\n",
    "        sum += i\n",
    "    num = int(input(\"Enter integer (0 for output): \"))\n",
    "print(sum)"
   ]
  },
  {
   "cell_type": "code",
   "execution_count": 17,
   "id": "0381de5d-ce88-4878-9adc-1b65fd3d26f0",
   "metadata": {},
   "outputs": [
    {
     "name": "stdin",
     "output_type": "stream",
     "text": [
      "Enter integer (0 for output):  1\n",
      "Enter integer (0 for output):  2\n",
      "Enter integer (0 for output):  3\n",
      "Enter integer (0 for output):  4\n",
      "Enter integer (0 for output):  0\n"
     ]
    },
    {
     "name": "stdout",
     "output_type": "stream",
     "text": [
      "20\n"
     ]
    }
   ],
   "source": [
    "# подвійний цикл з домашки\n",
    "# як би робив я )\n",
    "# break - вихід з поточного циклу\n",
    "\n",
    "sum = 0\n",
    "while True:\n",
    "    num = int(input(\"Enter integer (0 for output): \"))\n",
    "    if num == 0: break\n",
    "    for i in range(num+1):\n",
    "        sum += i\n",
    "print(sum)"
   ]
  }
 ],
 "metadata": {
  "kernelspec": {
   "display_name": "Python 3 (ipykernel)",
   "language": "python",
   "name": "python3"
  },
  "language_info": {
   "codemirror_mode": {
    "name": "ipython",
    "version": 3
   },
   "file_extension": ".py",
   "mimetype": "text/x-python",
   "name": "python",
   "nbconvert_exporter": "python",
   "pygments_lexer": "ipython3",
   "version": "3.11.7"
  }
 },
 "nbformat": 4,
 "nbformat_minor": 5
}
