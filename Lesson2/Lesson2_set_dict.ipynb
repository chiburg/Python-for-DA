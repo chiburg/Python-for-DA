{
 "cells": [
  {
   "cell_type": "code",
   "execution_count": 3,
   "id": "c79af9d8-77ab-497f-a127-d0d3bb428b39",
   "metadata": {},
   "outputs": [
    {
     "name": "stdout",
     "output_type": "stream",
     "text": [
      "{'s', 'f', 'd', 'g', 'p', 'a'}\n"
     ]
    }
   ],
   "source": [
    "# створення множини\n",
    "a = set('sadfsdfpgsd')\n",
    "print(a)"
   ]
  },
  {
   "cell_type": "code",
   "execution_count": 26,
   "id": "fa0422d5-a18d-452d-8f33-91116adea3a0",
   "metadata": {},
   "outputs": [
    {
     "name": "stdout",
     "output_type": "stream",
     "text": [
      "<class 'set'>\n"
     ]
    }
   ],
   "source": [
    "b = {'hgfhgf'}\n",
    "print(type(b))"
   ]
  },
  {
   "cell_type": "code",
   "execution_count": 5,
   "id": "f219b3ee-9e7a-4ec2-8c57-be1ba070e7c2",
   "metadata": {},
   "outputs": [
    {
     "name": "stdout",
     "output_type": "stream",
     "text": [
      "{'s', 'f', 'd', 'g', 'p', 'o', 'k', 'a'}\n"
     ]
    }
   ],
   "source": [
    "# об'єднання множин\n",
    "\n",
    "a.update(b)\n",
    "print(a)"
   ]
  },
  {
   "cell_type": "code",
   "execution_count": 6,
   "id": "32432fed-e5b3-4115-ac7a-4aca5595b176",
   "metadata": {},
   "outputs": [
    {
     "name": "stdout",
     "output_type": "stream",
     "text": [
      "{'orange', 'banana', 'cherry', 'apple'}\n"
     ]
    }
   ],
   "source": [
    "# додавання елементу множини\n",
    "\n",
    "fruits = {\"apple\", \"banana\", \"cherry\"}\n",
    "\n",
    "fruits.add(\"orange\")\n",
    "\n",
    "print(fruits)"
   ]
  },
  {
   "cell_type": "code",
   "execution_count": 7,
   "id": "be80d6b8-ae2e-4024-b2d4-1e0716d4700b",
   "metadata": {},
   "outputs": [
    {
     "name": "stdout",
     "output_type": "stream",
     "text": [
      "{'banana', 'cherry', 'ddd', 'orange', 'fff', 'apple'}\n"
     ]
    }
   ],
   "source": [
    "# об'єднання множин\n",
    "\n",
    "fruits_new = {\"ddd\", \"fff\", \"cherry\"}\n",
    "print(fruits|fruits_new)"
   ]
  },
  {
   "cell_type": "code",
   "execution_count": null,
   "id": "8ee10097-1d7f-4cc8-9ec4-91b6ffc322bb",
   "metadata": {},
   "outputs": [],
   "source": [
    "# створення пустого словника\n",
    "\n",
    "my_dict = dict()\n",
    "my_dict = {}"
   ]
  },
  {
   "cell_type": "code",
   "execution_count": 19,
   "id": "eb57adba-0ea4-4d16-857f-b27f4bf81cbf",
   "metadata": {},
   "outputs": [
    {
     "name": "stdout",
     "output_type": "stream",
     "text": [
      "{'login': 'user', (1, 2): ['qwerty', True]}\n"
     ]
    }
   ],
   "source": [
    "# створення словника\n",
    "\n",
    "test_dict = {\n",
    "    'login': 'user',\n",
    "    (1, 2): ['qwerty', True]\n",
    "}\n",
    "print(test_dict)"
   ]
  },
  {
   "cell_type": "code",
   "execution_count": 20,
   "id": "6728dd30-0f49-430c-89d7-63e3f73d8535",
   "metadata": {},
   "outputs": [
    {
     "name": "stdout",
     "output_type": "stream",
     "text": [
      "user\n"
     ]
    }
   ],
   "source": [
    "# отримання даних зі словника по ключу\n",
    "\n",
    "print(test_dict.get('login'))"
   ]
  },
  {
   "cell_type": "code",
   "execution_count": 22,
   "id": "8b6de16f-acbd-4190-a1b5-14186c4cd4c5",
   "metadata": {},
   "outputs": [
    {
     "name": "stdout",
     "output_type": "stream",
     "text": [
      "{'login': 'user', (1, 2): ['qwerty', True], 'country': 803}\n"
     ]
    }
   ],
   "source": [
    "# додавання запису в словник\n",
    "\n",
    "test_dict.update({'country': 803})\n",
    "print(test_dict)"
   ]
  },
  {
   "cell_type": "code",
   "execution_count": 18,
   "id": "90f8fd56-cd0b-467e-a25a-a674d368d629",
   "metadata": {},
   "outputs": [
    {
     "name": "stdout",
     "output_type": "stream",
     "text": [
      "{'login': 'user'}\n",
      "['qwerty', True]\n"
     ]
    }
   ],
   "source": [
    "# видалення запису зі словника\n",
    "\n",
    "new_test_dict = test_dict.pop((1, 2))\n",
    "#test_dict.pop((1,2))\n",
    "print(test_dict)\n",
    "print(new_test_dict)"
   ]
  }
 ],
 "metadata": {
  "kernelspec": {
   "display_name": "Python 3 (ipykernel)",
   "language": "python",
   "name": "python3"
  },
  "language_info": {
   "codemirror_mode": {
    "name": "ipython",
    "version": 3
   },
   "file_extension": ".py",
   "mimetype": "text/x-python",
   "name": "python",
   "nbconvert_exporter": "python",
   "pygments_lexer": "ipython3",
   "version": "3.11.7"
  }
 },
 "nbformat": 4,
 "nbformat_minor": 5
}
