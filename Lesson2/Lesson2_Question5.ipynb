{
 "cells": [
  {
   "cell_type": "code",
   "execution_count": 10,
   "id": "e384f2cb-d4ae-4d94-848c-f7e9726c53ca",
   "metadata": {
    "scrolled": true
   },
   "outputs": [
    {
     "name": "stdin",
     "output_type": "stream",
     "text": [
      "Сьогодні вихідний? Так/Ні  ні\n",
      "Котра година?  8\n"
     ]
    },
    {
     "name": "stdout",
     "output_type": "stream",
     "text": [
      "Введіть Так або Ні.\n"
     ]
    },
    {
     "name": "stdin",
     "output_type": "stream",
     "text": [
      "Сьогодні вихідний? Так/Ні  Ні\n"
     ]
    },
    {
     "name": "stdout",
     "output_type": "stream",
     "text": [
      "Час вставати та збиратись на роботу!\n"
     ]
    }
   ],
   "source": [
    "#  код з конспекту\n",
    "\n",
    "is_weekend = input(\"Сьогодні вихідний? Так/Ні \")\n",
    "hour = int(input(\"Котра година? \"))\n",
    "if is_weekend != \"Hi\" and is_weekend != \"Так\":\n",
    "    print(\"Введіть Так або Ні.\")\n",
    "    is_weekend = input(\"Сьогодні вихідний? Так/Ні \")\n",
    "    if is_weekend == \"Ні\" and hour == 8:\n",
    "        print(\"Час вставати та збиратись на роботу!\")\n",
    "elif is_weekend == \"Так\" and hour == 10:\n",
    "        print(\"Прокидайся та насолоджуйся відпочинком\")"
   ]
  },
  {
   "cell_type": "code",
   "execution_count": 2,
   "id": "74641ba7-0a0d-4643-a606-0b2499f629c8",
   "metadata": {},
   "outputs": [
    {
     "name": "stdin",
     "output_type": "stream",
     "text": [
      "Yes or No?  no\n"
     ]
    },
    {
     "name": "stdout",
     "output_type": "stream",
     "text": [
      "no\n",
      "No\n"
     ]
    }
   ],
   "source": [
    "# приклад реалізації з універсальним введенням відповіді\n",
    "\n",
    "test_string = input ('Yes or No? ')\n",
    "\n",
    "if test_string.upper() != 'NO':\n",
    "    print('Yes')\n",
    "else:\n",
    "    print(test_string)\n",
    "    print(test_string.capitalize())"
   ]
  },
  {
   "cell_type": "code",
   "execution_count": 18,
   "id": "1c0f7eba-47e3-4d9e-a328-33ef9a6806c4",
   "metadata": {},
   "outputs": [
    {
     "name": "stdin",
     "output_type": "stream",
     "text": [
      "Name IVAN\n"
     ]
    },
    {
     "name": "stdout",
     "output_type": "stream",
     "text": [
      "IVAN\n",
      "Ivan\n"
     ]
    }
   ],
   "source": [
    "# приклад реалізації з універсальним введенням ім'я\n",
    "\n",
    "d = input('Name')\n",
    "print(d)\n",
    "print(d.lower().capitalize())"
   ]
  },
  {
   "cell_type": "code",
   "execution_count": null,
   "id": "70ae42b1-ce57-46b6-9786-b7e3f71a02fe",
   "metadata": {},
   "outputs": [],
   "source": []
  }
 ],
 "metadata": {
  "kernelspec": {
   "display_name": "Python 3 (ipykernel)",
   "language": "python",
   "name": "python3"
  },
  "language_info": {
   "codemirror_mode": {
    "name": "ipython",
    "version": 3
   },
   "file_extension": ".py",
   "mimetype": "text/x-python",
   "name": "python",
   "nbconvert_exporter": "python",
   "pygments_lexer": "ipython3",
   "version": "3.11.7"
  }
 },
 "nbformat": 4,
 "nbformat_minor": 5
}
