{
 "cells": [
  {
   "cell_type": "code",
   "execution_count": 34,
   "id": "5d0c78bc-4224-44a1-adbf-d77a48a8f452",
   "metadata": {},
   "outputs": [
    {
     "name": "stdout",
     "output_type": "stream",
     "text": [
      "['L', 'a', 's', 't', ' ', 'C', 'h', 'e', 'c', 'k', 'p', 'o', 'i', 'n', 't', ':', ' ', '4', '8', ' ', 'm', 'i', 'n', 'u', 't', 'e', 's', ' ', 'a', 'g', 'o']\n",
      "{'o', 'c', 'L', '8', 'h', 'e', 'k', 'a', ' ', '4', 'g', 's', 'n', 'u', 'i', 't', 'p', 'm', ':', 'C'}\n"
     ]
    }
   ],
   "source": [
    "# створюємо список з рядка\n",
    "my_list = list('Last Checkpoint: 48 minutes ago')\n",
    "print(my_list)\n",
    "\n",
    "# за допомогою функції set() зі списку отримуємо множину\n",
    "print(set(my_list))"
   ]
  },
  {
   "cell_type": "code",
   "execution_count": 36,
   "id": "5231c4cf-21c0-43dc-84e2-96a4b5b06090",
   "metadata": {},
   "outputs": [
    {
     "name": "stdout",
     "output_type": "stream",
     "text": [
      "{0, 2, 4, 6, 8, 10}\n"
     ]
    }
   ],
   "source": [
    "# приклад використання list comprehension\n",
    "# виводимо всі парні числа в проміжку, використовуючи один рядок коду\n",
    "\n",
    "print(set(i if i % 2 == 0 else i + 1 for i in range(10)))"
   ]
  }
 ],
 "metadata": {
  "kernelspec": {
   "display_name": "Python 3 (ipykernel)",
   "language": "python",
   "name": "python3"
  },
  "language_info": {
   "codemirror_mode": {
    "name": "ipython",
    "version": 3
   },
   "file_extension": ".py",
   "mimetype": "text/x-python",
   "name": "python",
   "nbconvert_exporter": "python",
   "pygments_lexer": "ipython3",
   "version": "3.11.7"
  }
 },
 "nbformat": 4,
 "nbformat_minor": 5
}
