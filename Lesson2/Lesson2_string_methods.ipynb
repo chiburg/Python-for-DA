{
 "cells": [
  {
   "cell_type": "code",
   "execution_count": 1,
   "id": "be2a10ee-5abb-44d8-b049-c34f43651bc5",
   "metadata": {},
   "outputs": [
    {
     "name": "stdout",
     "output_type": "stream",
     "text": [
      "\n",
      "1 - kuaisushgfs\n",
      "2 - kxjcchksjhfbs\n",
      "3 - lxkjjhgxlkjg\n",
      "\n"
     ]
    }
   ],
   "source": [
    "# створення \"багаторядкового\" рядка\n",
    "\n",
    "menu = \"\"\"\n",
    "1 - kuaisushgfs\n",
    "2 - kxjcchksjhfbs\n",
    "3 - lxkjjhgxlkjg\n",
    "\"\"\"\n",
    "print(menu)"
   ]
  },
  {
   "cell_type": "code",
   "execution_count": 6,
   "id": "b69bcd87-e240-40ab-a55e-be9228f06b6f",
   "metadata": {},
   "outputs": [
    {
     "name": "stdout",
     "output_type": "stream",
     "text": [
      "['kjagJHGka', '5', 'sjJKH', '', 'GG333db']\n"
     ]
    }
   ],
   "source": [
    "# методи обробки рядків\n",
    "\n",
    "test_string = ' kjagJHGka656sjJKH66GG333db'\n",
    "# print(test_string[1])\n",
    "# print(test_string.upper())\n",
    "# print(test_string.lower())\n",
    "print(test_string.split('6'))"
   ]
  },
  {
   "cell_type": "code",
   "execution_count": 15,
   "id": "ada27958-2667-4129-ab21-f1357f696d05",
   "metadata": {},
   "outputs": [
    {
     "name": "stdout",
     "output_type": "stream",
     "text": [
      "kjagJHGka656sjJKH66GG333db\n"
     ]
    }
   ],
   "source": [
    "print(test_string.strip())"
   ]
  },
  {
   "cell_type": "code",
   "execution_count": 14,
   "id": "c389b7ab-72f9-4c71-a5e0-40bd0970756d",
   "metadata": {},
   "outputs": [
    {
     "name": "stdout",
     "output_type": "stream",
     "text": [
      "9\n",
      "18\n"
     ]
    }
   ],
   "source": [
    "# пошук елемента в рядку\n",
    "\n",
    "print(test_string.find('6', 1, 10))\n",
    "print(test_string.rfind('6'))"
   ]
  },
  {
   "cell_type": "code",
   "execution_count": 1,
   "id": "1b789897-2a7f-413f-ad4a-1faa1d8a6bc2",
   "metadata": {},
   "outputs": [
    {
     "name": "stdout",
     "output_type": "stream",
     "text": [
      "www#eee#ttt\n",
      "<class 'str'>\n"
     ]
    }
   ],
   "source": [
    "# створення рядка методом join\n",
    "\n",
    "my_tuple = ('www', 'eee', 'ttt')\n",
    "join_string = '#'.join(my_tuple)\n",
    "print(join_string)\n",
    "print(type(join_string))"
   ]
  },
  {
   "cell_type": "code",
   "execution_count": 18,
   "id": "e4a6c362-8ac3-4339-a5d1-dea3084e245b",
   "metadata": {},
   "outputs": [
    {
     "name": "stdout",
     "output_type": "stream",
     "text": [
      " kjagJ1116sjJKH66GG333db\n"
     ]
    }
   ],
   "source": [
    "# метод replace\n",
    "\n",
    "test_string = ' kjagJHGka656sjJKH66GG333db'\n",
    "new_string = test_string.replace('HGka65', '111')\n",
    "print(new_string)"
   ]
  },
  {
   "cell_type": "code",
   "execution_count": 22,
   "id": "c62fec83-f0d1-4296-b4dd-2b7f7a21f960",
   "metadata": {},
   "outputs": [
    {
     "name": "stdout",
     "output_type": "stream",
     "text": [
      "hello, my name is ggg and i'm 5 years old\n"
     ]
    }
   ],
   "source": [
    "# форматування рядка за допомогою f-рядка\n",
    "\n",
    "a = 5\n",
    "b = 'ggg'\n",
    "print(f\"hello, my name is {b} and i'm {a} years old\")\n",
    "print()"
   ]
  },
  {
   "cell_type": "code",
   "execution_count": 23,
   "id": "9cdbd991-c3c2-44bc-8189-9a7c02fa7620",
   "metadata": {},
   "outputs": [
    {
     "name": "stdout",
     "output_type": "stream",
     "text": [
      "For only 49.00 dollars!\n"
     ]
    }
   ],
   "source": [
    "# форматування рядка за допомогою format\n",
    "\n",
    "txt = \"For only {price:.2f} dollars!\"\n",
    "print(txt.format(price = 49))"
   ]
  },
  {
   "cell_type": "code",
   "execution_count": 26,
   "id": "9aa22b62-da60-421d-bd36-d5c0869a983c",
   "metadata": {},
   "outputs": [
    {
     "name": "stdout",
     "output_type": "stream",
     "text": [
      "My name is John, I'm 36\n",
      "My name is John, I'm 36\n",
      "My name is John, I'm 36\n"
     ]
    }
   ],
   "source": [
    "# форматування рядка за допомогою format\n",
    "\n",
    "txt1 = \"My name is {fname}, I'm {age}\".format(fname = \"John\", age = 36)\n",
    "txt2 = \"My name is {0}, I'm {1}\".format(\"John\",36)\n",
    "txt3 = \"My name is {}, I'm {}\".format(\"John\",36)\n",
    "print(txt1)\n",
    "print(txt2)\n",
    "print(txt3)"
   ]
  }
 ],
 "metadata": {
  "kernelspec": {
   "display_name": "Python 3 (ipykernel)",
   "language": "python",
   "name": "python3"
  },
  "language_info": {
   "codemirror_mode": {
    "name": "ipython",
    "version": 3
   },
   "file_extension": ".py",
   "mimetype": "text/x-python",
   "name": "python",
   "nbconvert_exporter": "python",
   "pygments_lexer": "ipython3",
   "version": "3.11.7"
  }
 },
 "nbformat": 4,
 "nbformat_minor": 5
}
