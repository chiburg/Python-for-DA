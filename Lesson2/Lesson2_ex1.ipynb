{
 "cells": [
  {
   "cell_type": "code",
   "execution_count": 2,
   "id": "d373a989-8efc-4c70-bcd5-ee45edc8cf82",
   "metadata": {},
   "outputs": [
    {
     "name": "stdout",
     "output_type": "stream",
     "text": [
      "['l', 'k', 'k', 'h', '3', '4', '5', '3', 'g', 's', 'l', 'k', 'h', 'g']\n"
     ]
    }
   ],
   "source": [
    "# створення списку\n",
    "\n",
    "# my_list = list()\n",
    "my_list = [1, 3, 'y']\n",
    "my_list = list('lkkh3453gslkhg')\n",
    "print(my_list)"
   ]
  },
  {
   "cell_type": "code",
   "execution_count": 17,
   "id": "c1bafc5e-0b7c-4653-a9e5-a06c35cbeeda",
   "metadata": {},
   "outputs": [
    {
     "name": "stdout",
     "output_type": "stream",
     "text": [
      "True g 3\n",
      "g\n"
     ]
    }
   ],
   "source": [
    "print(my_list[0], my_list[-1], 3)\n",
    "print(my_list[-1])"
   ]
  },
  {
   "cell_type": "code",
   "execution_count": 3,
   "id": "56d55c47-53d8-4e66-b303-c3484f47ae51",
   "metadata": {},
   "outputs": [
    {
     "name": "stdout",
     "output_type": "stream",
     "text": [
      "[True, 'k', 'k', 'h', '3', 6, '5', '3', 'g', 's', 'l', 'k', 'h', 'g']\n"
     ]
    }
   ],
   "source": [
    "# зміна елементу списку за індексом\n",
    "\n",
    "my_list[0] = True\n",
    "my_list[5] = 6\n",
    "print(my_list)"
   ]
  },
  {
   "cell_type": "code",
   "execution_count": 29,
   "id": "cdf77ae0-dadd-44ad-ac72-ed3be178b8e5",
   "metadata": {},
   "outputs": [
    {
     "name": "stdout",
     "output_type": "stream",
     "text": [
      "['l', 'h', '3', '4', '5', '3', 'g', 's', 'l', 'k', 'h', 'g']\n"
     ]
    }
   ],
   "source": [
    "# методи append та insert\n",
    "\n",
    "#my_list.append('h')\n",
    "#print(my_list)\n",
    "\n",
    "#my_list.insert(0, 9999)\n",
    "#print(my_list)\n",
    "# print(my_list)\n",
    "my_list.pop(1)\n",
    "print(my_list)"
   ]
  },
  {
   "cell_type": "code",
   "execution_count": 32,
   "id": "7213620f-c943-4203-978a-1641e690362c",
   "metadata": {},
   "outputs": [
    {
     "name": "stdout",
     "output_type": "stream",
     "text": [
      "2\n"
     ]
    }
   ],
   "source": [
    "print(my_list.count('l'))"
   ]
  },
  {
   "cell_type": "code",
   "execution_count": 37,
   "id": "1e953091-9e7b-440e-b10d-f526a09b11e1",
   "metadata": {},
   "outputs": [
    {
     "name": "stdout",
     "output_type": "stream",
     "text": [
      "['l', 'h', '3', '4', '5', '3', 'g', 's', 'l', 'k', 'h', 'g']\n",
      "['g', 'h', 'k', 'l', 's', 'g', '3', '5', '4', '3', 'h', 'l']\n"
     ]
    }
   ],
   "source": [
    "# копіюємо вхідний список і створюємо новий, обернений до вхідного\n",
    "\n",
    "print(my_list)\n",
    "my_list2 = my_list.copy()\n",
    "my_list2.reverse()\n",
    "print(my_list2)"
   ]
  },
  {
   "cell_type": "code",
   "execution_count": 39,
   "id": "f00efe36-acf8-4939-8063-b6c2f28db103",
   "metadata": {},
   "outputs": [
    {
     "name": "stdout",
     "output_type": "stream",
     "text": [
      "['l', 'h', '3', '4', '5', '3', 'g', 's', 'l', 'k', 'h', 'g']\n",
      "{'k', '5', 'h', 'g', '4', 'l', '3', 's'}\n"
     ]
    }
   ],
   "source": [
    "# робимо зі списку множину\n",
    "\n",
    "print(my_list)\n",
    "my_set = set(my_list)\n",
    "print(my_set)"
   ]
  },
  {
   "cell_type": "code",
   "execution_count": null,
   "id": "9f484ebc-6973-4bb3-885c-1a29e85478fb",
   "metadata": {},
   "outputs": [],
   "source": []
  },
  {
   "cell_type": "code",
   "execution_count": 40,
   "id": "4406ad92-3d13-4714-8ca5-a382ce0a7379",
   "metadata": {},
   "outputs": [
    {
     "name": "stdout",
     "output_type": "stream",
     "text": [
      "<class 'list'>\n",
      "<class 'set'>\n",
      "<class 'int'>\n"
     ]
    }
   ],
   "source": [
    "# перевірка типів змінних\n",
    "\n",
    "num = 3\n",
    "print(type(my_list))\n",
    "print(type(my_set))\n",
    "print(type(num))"
   ]
  },
  {
   "cell_type": "code",
   "execution_count": 4,
   "id": "342bf570-7538-4f84-936a-9435335160d5",
   "metadata": {},
   "outputs": [
    {
     "name": "stdout",
     "output_type": "stream",
     "text": [
      "4\n",
      "<class 'int'>\n",
      "(3,)\n",
      "<class 'tuple'>\n"
     ]
    }
   ],
   "source": [
    "# створення кортежу з 1 елемента\n",
    "\n",
    "not_tuple = (4)\n",
    "print(not_tuple)\n",
    "print(type(not_tuple))\n",
    "\n",
    "my_tuple = (3,)\n",
    "print(my_tuple)\n",
    "print(type(my_tuple))"
   ]
  }
 ],
 "metadata": {
  "kernelspec": {
   "display_name": "Python 3 (ipykernel)",
   "language": "python",
   "name": "python3"
  },
  "language_info": {
   "codemirror_mode": {
    "name": "ipython",
    "version": 3
   },
   "file_extension": ".py",
   "mimetype": "text/x-python",
   "name": "python",
   "nbconvert_exporter": "python",
   "pygments_lexer": "ipython3",
   "version": "3.11.7"
  }
 },
 "nbformat": 4,
 "nbformat_minor": 5
}
