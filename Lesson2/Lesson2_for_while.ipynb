{
 "cells": [
  {
   "cell_type": "code",
   "execution_count": 9,
   "id": "0ca126b3-bae2-4fd0-866f-22853a46715f",
   "metadata": {},
   "outputs": [
    {
     "name": "stdout",
     "output_type": "stream",
     "text": [
      "q\n",
      "w\n",
      "e\n",
      "r\n",
      "t\n",
      "y\n",
      "u\n",
      "i\n",
      "o\n",
      "p\n"
     ]
    }
   ],
   "source": [
    "# for по рядку\n",
    "\n",
    "my_iterable = 'qwertyuiop'\n",
    "for x in my_iterable:\n",
    "    print(x)"
   ]
  },
  {
   "cell_type": "code",
   "execution_count": 10,
   "id": "19d8323b-6c34-4561-bab0-1785c81ff1a6",
   "metadata": {},
   "outputs": [
    {
     "name": "stdout",
     "output_type": "stream",
     "text": [
      "ddd\n",
      "[1, 2, 3]\n",
      "(23, 'rt')\n",
      "ddd\n",
      "1\n"
     ]
    }
   ],
   "source": [
    "# for по списку\n",
    "\n",
    "my_iterable2 = [1, 'ddd', (23, 'rt'), [1, 2, 3], 'ddd']\n",
    "test = my_iterable2.copy()\n",
    "test.reverse()\n",
    "for d in test:\n",
    "    print(d)"
   ]
  },
  {
   "cell_type": "code",
   "execution_count": 12,
   "id": "66d0a4f2-2033-4130-b49f-507c402105a6",
   "metadata": {},
   "outputs": [
    {
     "name": "stdout",
     "output_type": "stream",
     "text": [
      "0\n",
      "2\n",
      "4\n",
      "6\n",
      "8\n"
     ]
    }
   ],
   "source": [
    "# for по проміжку\n",
    "\n",
    "for i in range(10): #(0, 1, 2, 3, 4, 5, 6, 7, 8, 9)\n",
    "    if i % 2 == 0:\n",
    "        print(i)"
   ]
  },
  {
   "cell_type": "code",
   "execution_count": 14,
   "id": "65b8db57-0ecb-49b4-a8da-c633a55c3430",
   "metadata": {},
   "outputs": [
    {
     "name": "stdout",
     "output_type": "stream",
     "text": [
      "1\n",
      "2\n",
      "3\n",
      "4\n",
      "5\n",
      "6\n",
      "7\n",
      "8\n",
      "9\n",
      "10\n"
     ]
    }
   ],
   "source": [
    "# while по умові\n",
    "\n",
    "k = 0\n",
    "while k < 10:\n",
    "    k = k + 1\n",
    "    print(k)"
   ]
  }
 ],
 "metadata": {
  "kernelspec": {
   "display_name": "Python 3 (ipykernel)",
   "language": "python",
   "name": "python3"
  },
  "language_info": {
   "codemirror_mode": {
    "name": "ipython",
    "version": 3
   },
   "file_extension": ".py",
   "mimetype": "text/x-python",
   "name": "python",
   "nbconvert_exporter": "python",
   "pygments_lexer": "ipython3",
   "version": "3.11.7"
  }
 },
 "nbformat": 4,
 "nbformat_minor": 5
}
