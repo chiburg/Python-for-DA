{
 "cells": [
  {
   "cell_type": "code",
   "execution_count": 24,
   "id": "0e48dbb8-54e4-4b1b-8581-9217b59a032c",
   "metadata": {},
   "outputs": [],
   "source": [
    "# вхідні дані\n",
    "\n",
    "queue = ['Anna', 'Petro']\n",
    "newcomers = ['Dmytro', 'Halyna']"
   ]
  },
  {
   "cell_type": "code",
   "execution_count": 25,
   "id": "b8d7ce6a-d022-4b84-bb44-e94e7dccc455",
   "metadata": {},
   "outputs": [
    {
     "name": "stdout",
     "output_type": "stream",
     "text": [
      "['Anna', 'Petro', 'Dmytro', 'Halyna']\n"
     ]
    }
   ],
   "source": [
    "# extend\n",
    "\n",
    "queue.extend(newcomers)\n",
    "print(queue) # ['Anna', 'Petro', 'Dmytro', 'Halyna']"
   ]
  },
  {
   "cell_type": "code",
   "execution_count": 23,
   "id": "721a24e1-c37a-4450-a36b-1067b26a5473",
   "metadata": {},
   "outputs": [
    {
     "name": "stdout",
     "output_type": "stream",
     "text": [
      "['Anna', 'Petro', ['Dmytro', 'Halyna']]\n"
     ]
    }
   ],
   "source": [
    "# append\n",
    "\n",
    "queue.append(newcomers)\n",
    "print(queue) "
   ]
  },
  {
   "cell_type": "code",
   "execution_count": null,
   "id": "8fca47f2-09d7-4483-8744-dbdbbbc38b2e",
   "metadata": {},
   "outputs": [],
   "source": [
    "# insert\n",
    "\n",
    "queue.insert(1, newcomers)\n",
    "print(queue) "
   ]
  },
  {
   "cell_type": "code",
   "execution_count": null,
   "id": "942d6607-075f-45ac-b83a-392d979f4eb6",
   "metadata": {},
   "outputs": [],
   "source": [
    "print(type(queue[2]))"
   ]
  },
  {
   "cell_type": "code",
   "execution_count": null,
   "id": "7935664c-ca6a-4117-a514-0e84110fd63f",
   "metadata": {},
   "outputs": [],
   "source": [
    "print(type(queue[4]))"
   ]
  }
 ],
 "metadata": {
  "kernelspec": {
   "display_name": "Python 3 (ipykernel)",
   "language": "python",
   "name": "python3"
  },
  "language_info": {
   "codemirror_mode": {
    "name": "ipython",
    "version": 3
   },
   "file_extension": ".py",
   "mimetype": "text/x-python",
   "name": "python",
   "nbconvert_exporter": "python",
   "pygments_lexer": "ipython3",
   "version": "3.11.7"
  }
 },
 "nbformat": 4,
 "nbformat_minor": 5
}
