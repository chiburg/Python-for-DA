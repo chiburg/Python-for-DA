{
 "cells": [
  {
   "cell_type": "code",
   "execution_count": 1,
   "id": "7f6d319a-356b-45ee-bf99-1da8e3b60568",
   "metadata": {},
   "outputs": [
    {
     "name": "stdout",
     "output_type": "stream",
     "text": [
      "{'a': 1, 'b': 2, 'c': 3}\n"
     ]
    }
   ],
   "source": [
    "chars = {'a': 1, 'b': 2}\n",
    "chars.update({\"c\": 3})\n",
    "print(chars)# {'a': 1, 'b': 2, \"c\": 3}"
   ]
  },
  {
   "cell_type": "code",
   "execution_count": 2,
   "id": "796456f3-5762-46af-b118-358dc7a4de30",
   "metadata": {},
   "outputs": [
    {
     "name": "stdout",
     "output_type": "stream",
     "text": [
      "{'a': 1, 'b': 2, 'c': 3}\n"
     ]
    }
   ],
   "source": [
    "chars = {'a': 1,\"b\": 2}\n",
    "chars.update({'c': 3})\n",
    "print(chars)# {'a': 1, 'b': 2, \"c\": 3}"
   ]
  }
 ],
 "metadata": {
  "kernelspec": {
   "display_name": "Python 3 (ipykernel)",
   "language": "python",
   "name": "python3"
  },
  "language_info": {
   "codemirror_mode": {
    "name": "ipython",
    "version": 3
   },
   "file_extension": ".py",
   "mimetype": "text/x-python",
   "name": "python",
   "nbconvert_exporter": "python",
   "pygments_lexer": "ipython3",
   "version": "3.11.7"
  }
 },
 "nbformat": 4,
 "nbformat_minor": 5
}
