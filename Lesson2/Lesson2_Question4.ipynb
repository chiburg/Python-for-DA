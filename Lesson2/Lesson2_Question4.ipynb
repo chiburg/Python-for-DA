{
 "cells": [
  {
   "cell_type": "code",
   "execution_count": 9,
   "id": "d5c96e5e-5c1d-475c-b7bc-d8ad48e8f6ef",
   "metadata": {},
   "outputs": [
    {
     "ename": "SyntaxError",
     "evalue": "f-string: unmatched '[' (1747668188.py, line 8)",
     "output_type": "error",
     "traceback": [
      "\u001b[1;36m  Cell \u001b[1;32mIn[9], line 8\u001b[1;36m\u001b[0m\n\u001b[1;33m    print(f\"User is {user[\"age\"]} years old.\")\u001b[0m\n\u001b[1;37m                           ^\u001b[0m\n\u001b[1;31mSyntaxError\u001b[0m\u001b[1;31m:\u001b[0m f-string: unmatched '['\n"
     ]
    }
   ],
   "source": [
    "# код з проблемою\n",
    "\n",
    "user = {\n",
    "    \"name\": \"Bill\",\n",
    "    \"surname\": \"Bosh\",\n",
    "    \"age\": 22\n",
    "}\n",
    "\n",
    "if \"age\" in user:\n",
    "    print(f\"User is {user[\"age\"]} years old.\")"
   ]
  },
  {
   "cell_type": "code",
   "execution_count": 10,
   "id": "0c2070ef-53db-4e7d-a27f-3b5af4a6302b",
   "metadata": {},
   "outputs": [
    {
     "name": "stdout",
     "output_type": "stream",
     "text": [
      "User is 22 years old.\n"
     ]
    }
   ],
   "source": [
    "# робочий код - замінили подвійні лапки на одинарні всередині f-string\n",
    "\n",
    "user = {\n",
    "    \"name\": \"Bill\",\n",
    "    \"surname\": \"Bosh\",\n",
    "    \"age\": 22\n",
    "}\n",
    "\n",
    "if \"age\" in user:\n",
    "    print(f\"User is {user['age']} years old.\")"
   ]
  },
  {
   "cell_type": "code",
   "execution_count": 11,
   "id": "cc6cc29a-bd70-4c24-855d-2283d2412b17",
   "metadata": {},
   "outputs": [
    {
     "name": "stdout",
     "output_type": "stream",
     "text": [
      "22\n",
      "22\n"
     ]
    }
   ],
   "source": [
    "# головне, щоб рядок починався і закінчувався однаковими лапками\n",
    "\n",
    "print(user[\"age\"])\n",
    "print(user['age'])"
   ]
  },
  {
   "cell_type": "code",
   "execution_count": null,
   "id": "3bbfc2d5-7e71-4596-8926-30e1ab7be13c",
   "metadata": {},
   "outputs": [],
   "source": []
  }
 ],
 "metadata": {
  "kernelspec": {
   "display_name": "Python 3 (ipykernel)",
   "language": "python",
   "name": "python3"
  },
  "language_info": {
   "codemirror_mode": {
    "name": "ipython",
    "version": 3
   },
   "file_extension": ".py",
   "mimetype": "text/x-python",
   "name": "python",
   "nbconvert_exporter": "python",
   "pygments_lexer": "ipython3",
   "version": "3.11.7"
  }
 },
 "nbformat": 4,
 "nbformat_minor": 5
}
