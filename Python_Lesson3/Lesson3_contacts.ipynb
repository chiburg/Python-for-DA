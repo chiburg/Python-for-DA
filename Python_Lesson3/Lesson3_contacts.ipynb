{
 "cells": [
  {
   "cell_type": "code",
   "execution_count": 18,
   "id": "7e7110cd-b182-4d05-b884-1c90c60baa5b",
   "metadata": {},
   "outputs": [
    {
     "name": "stdout",
     "output_type": "stream",
     "text": [
      "            name                          email           phone  favorite\n",
      "1  Allen Raymond      nulla.ante@vestibul.co.uk  (992) 914-3792     False\n",
      "2    Chaim Lewis            dui.in@egetlacus.ca  (294) 840-6685     False\n",
      "3   Kennedy Lane  mattis.Cras@nonenimMauris.net  (542) 451-7038      True\n",
      "4     Wylie Pope              est@utquamvel.net  (692) 802-2949     False\n",
      "5  Cyrus Jackson         nibh@semsempererat.com  (501) 472-5218      True\n"
     ]
    }
   ],
   "source": [
    "# створення датафрейму\n",
    "\n",
    "import pandas as pd\n",
    "\n",
    "contacts = pd.DataFrame(\n",
    "    {\n",
    "        \"name\": [\n",
    "            \"Allen Raymond\",\n",
    "            \"Chaim Lewis\",\n",
    "            \"Kennedy Lane\",\n",
    "            \"Wylie Pope\",\n",
    "            \"Cyrus Jackson\",\n",
    "        ],\n",
    "        \"email\": [\n",
    "            \"nulla.ante@vestibul.co.uk\",\n",
    "            \"dui.in@egetlacus.ca\",\n",
    "            \"mattis.Cras@nonenimMauris.net\",\n",
    "            \"est@utquamvel.net\",\n",
    "            \"nibh@semsempererat.com\",\n",
    "        ],\n",
    "        \"phone\": [\n",
    "            \"(992) 914-3792\",\n",
    "            \"(294) 840-6685\",\n",
    "            \"(542) 451-7038\",\n",
    "            \"(692) 802-2949\",\n",
    "            \"(501) 472-5218\",\n",
    "        ],\n",
    "        \"favorite\": [False, False, True, False, True],\n",
    "    },\n",
    "    index=[1, 2, 3, 4, 5],\n",
    ")\n",
    "\n",
    "print(contacts)\n",
    "\n",
    "# збереження датафрейму в csv\n",
    "contacts.to_csv(\"D://Lesson3/contacts.csv\")\n",
    "contacts.to_csv(\"D://Lesson3/contacts2.csv\", index=False)"
   ]
  },
  {
   "cell_type": "code",
   "execution_count": null,
   "id": "47df4586-bcf2-43c4-a206-b2a8f897570f",
   "metadata": {},
   "outputs": [],
   "source": [
    "# доступ до стовпчика\n",
    "\n",
    "print(contacts[\"name\"])"
   ]
  },
  {
   "cell_type": "code",
   "execution_count": null,
   "id": "d41d916c-84c1-441a-b063-4a8d3c62cf16",
   "metadata": {},
   "outputs": [],
   "source": [
    "# доступ по мітці\n",
    "\n",
    "print(contacts.loc[1])"
   ]
  },
  {
   "cell_type": "code",
   "execution_count": null,
   "id": "99237155-2b31-4abb-bac2-c5425e2587a5",
   "metadata": {},
   "outputs": [],
   "source": [
    "#доступ по індексу\n",
    "\n",
    "print(contacts.iloc[1])"
   ]
  },
  {
   "cell_type": "code",
   "execution_count": null,
   "id": "7c063aa7-24b7-457b-8321-ac8355677e6d",
   "metadata": {},
   "outputs": [],
   "source": [
    "# використання слайсів при роботі з індексами\n",
    "\n",
    "print(contacts[0:2])"
   ]
  },
  {
   "cell_type": "code",
   "execution_count": null,
   "id": "c6908ac6-38c8-48e8-b6b3-53eddba5d244",
   "metadata": {},
   "outputs": [],
   "source": [
    "print(contacts[contacts[\"favorite\"]])"
   ]
  },
  {
   "cell_type": "code",
   "execution_count": null,
   "id": "a212f136-3926-4de6-ab03-f4c73c75149f",
   "metadata": {},
   "outputs": [],
   "source": [
    "# встановлення нових індексів\n",
    "\n",
    "contacts.set_index('name', inplace=True)\n",
    "print(contacts)"
   ]
  },
  {
   "cell_type": "code",
   "execution_count": null,
   "id": "740f5f8a-9751-40f0-a9f8-3d0ccf5f711b",
   "metadata": {},
   "outputs": [],
   "source": [
    "# скидання індексів\n",
    "\n",
    "contacts.reset_index(inplace=True)\n",
    "print(contacts)"
   ]
  },
  {
   "cell_type": "code",
   "execution_count": null,
   "id": "6128b674-69cd-41b9-bfca-ac5b6ffac3c3",
   "metadata": {},
   "outputs": [],
   "source": [
    "# зміна типу даних в стовпчику\n",
    "\n",
    "contacts['favorite'] = contacts['favorite'].astype('int64')\n",
    "print(contacts.dtypes)"
   ]
  },
  {
   "cell_type": "code",
   "execution_count": null,
   "id": "03b93a7a-e8b4-40a8-bf95-289dedc48fb6",
   "metadata": {},
   "outputs": [],
   "source": [
    "# перейменування стовпчика\n",
    "\n",
    "contacts.rename(columns={'name': 'Full Name', 'email': 'Email Address'}, inplace=True)\n",
    "print(contacts)"
   ]
  }
 ],
 "metadata": {
  "kernelspec": {
   "display_name": "Python 3 (ipykernel)",
   "language": "python",
   "name": "python3"
  },
  "language_info": {
   "codemirror_mode": {
    "name": "ipython",
    "version": 3
   },
   "file_extension": ".py",
   "mimetype": "text/x-python",
   "name": "python",
   "nbconvert_exporter": "python",
   "pygments_lexer": "ipython3",
   "version": "3.11.7"
  }
 },
 "nbformat": 4,
 "nbformat_minor": 5
}
