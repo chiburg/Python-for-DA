{
 "cells": [
  {
   "cell_type": "code",
   "execution_count": null,
   "id": "6a562747-4451-44e6-961c-fe994123159c",
   "metadata": {},
   "outputs": [],
   "source": [
    "# створення та обробка серії\n",
    "# демонстрація роботи метода inplace"
   ]
  },
  {
   "cell_type": "code",
   "execution_count": 2,
   "id": "d56b309f-5a53-4cf5-9fd2-ec83379474e5",
   "metadata": {},
   "outputs": [],
   "source": [
    "import pandas as pd\n",
    "\n",
    "mountains_height = pd.Series(\n",
    "    data=[2061, 2035.8, 2028.5, 2022.5, 2016.4],\n",
    "    index=[\"Goverla\", \"Brebenskyl\", \"Pip_Ivan\", \"Petros\", \"Gutin_Tomnatik\"],\n",
    "    name=\"Height, m\",\n",
    "    dtype=float,\n",
    ")"
   ]
  },
  {
   "cell_type": "code",
   "execution_count": 4,
   "id": "31525201-6b15-4a01-a3a7-1d03c1933e61",
   "metadata": {},
   "outputs": [
    {
     "name": "stdout",
     "output_type": "stream",
     "text": [
      "Gutin_Tomnatik    2016.4\n",
      "Petros            2022.5\n",
      "Pip_Ivan          2028.5\n",
      "Brebenskyl        2035.8\n",
      "Goverla           2061.0\n",
      "Name: Height, m, dtype: float64\n",
      "\n",
      "None\n",
      "\n",
      "Brebenskyl        2035.8\n",
      "Goverla           2061.0\n",
      "Gutin_Tomnatik    2016.4\n",
      "Petros            2022.5\n",
      "Pip_Ivan          2028.5\n",
      "Name: Height, m, dtype: float64\n",
      "\n",
      "Gutin_Tomnatik    2016.4\n",
      "Petros            2022.5\n",
      "Pip_Ivan          2028.5\n",
      "Brebenskyl        2035.8\n",
      "Goverla           2061.0\n",
      "Name: Height, m, dtype: float64\n"
     ]
    }
   ],
   "source": [
    "print(mountains_height)\n",
    "print()\n",
    "\n",
    "sort_index_1 = mountains_height.sort_values(inplace=True)\n",
    "sort_index_2 = mountains_height.sort_index()\n",
    "\n",
    "print(sort_index_1)\n",
    "print()\n",
    "\n",
    "print(sort_index_2)\n",
    "print()\n",
    "\n",
    "mountains_height.sort_values(inplace=True)\n",
    "print(mountains_height)"
   ]
  },
  {
   "cell_type": "code",
   "execution_count": 16,
   "id": "77865247-a636-4574-9259-7b453ebd8017",
   "metadata": {},
   "outputs": [
    {
     "name": "stdout",
     "output_type": "stream",
     "text": [
      "Pip_Ivan          2028.5\n",
      "Goverla           2061.0\n",
      "Gutin_Tomnatik    2016.4\n",
      "Name: Height, m, dtype: float64\n"
     ]
    }
   ],
   "source": [
    "print(mountains_height[[\"Pip_Ivan\", \"Goverla\", \"Gutin_Tomnatik\"]])"
   ]
  }
 ],
 "metadata": {
  "kernelspec": {
   "display_name": "Python 3 (ipykernel)",
   "language": "python",
   "name": "python3"
  },
  "language_info": {
   "codemirror_mode": {
    "name": "ipython",
    "version": 3
   },
   "file_extension": ".py",
   "mimetype": "text/x-python",
   "name": "python",
   "nbconvert_exporter": "python",
   "pygments_lexer": "ipython3",
   "version": "3.11.7"
  }
 },
 "nbformat": 4,
 "nbformat_minor": 5
}
