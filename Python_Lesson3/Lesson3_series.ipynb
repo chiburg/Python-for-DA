{
 "cells": [
  {
   "cell_type": "code",
   "execution_count": 26,
   "id": "43d34384-5691-4be5-8ebb-5a782bd376bd",
   "metadata": {},
   "outputs": [
    {
     "name": "stdout",
     "output_type": "stream",
     "text": [
      "0    2061.0\n",
      "1    2035.8\n",
      "2    2028.5\n",
      "3    2022.5\n",
      "4    2016.4\n",
      "dtype: float64\n"
     ]
    }
   ],
   "source": [
    "import pandas as pd\n",
    "\n",
    "mountains_height = pd.Series([2061, 2035.8, 2028.5, 2022.5, 2016.4])\n",
    "\n",
    "print(mountains_height)"
   ]
  },
  {
   "cell_type": "code",
   "execution_count": 2,
   "id": "63a897ae-3635-41ea-b0be-0cebb671a29d",
   "metadata": {},
   "outputs": [
    {
     "name": "stdout",
     "output_type": "stream",
     "text": [
      "2028.5\n"
     ]
    }
   ],
   "source": [
    "print(mountains_height[2])"
   ]
  },
  {
   "cell_type": "code",
   "execution_count": 3,
   "id": "49905b51-1573-48d2-97e1-dd6f21b45c30",
   "metadata": {},
   "outputs": [
    {
     "name": "stdout",
     "output_type": "stream",
     "text": [
      "Goverla           2061.0\n",
      "Brebenskyl        2035.8\n",
      "Pip_Ivan          2028.5\n",
      "Petros            2022.5\n",
      "Gutin_Tomnatik    2016.4\n",
      "Name: Height, m, dtype: float64\n"
     ]
    }
   ],
   "source": [
    "mountains_height = pd.Series(\n",
    "    data=[2061, 2035.8, 2028.5, 2022.5, 2016.4],\n",
    "    index=[\"Goverla\", \"Brebenskyl\", \"Pip_Ivan\", \"Petros\", \"Gutin_Tomnatik\"],\n",
    "    name=\"Height, m\",\n",
    "    dtype=float,\n",
    ")\n",
    "\n",
    "print(mountains_height)"
   ]
  },
  {
   "cell_type": "code",
   "execution_count": 15,
   "id": "03ac3363-d22a-45ac-bef2-7c470ecfdd38",
   "metadata": {},
   "outputs": [
    {
     "name": "stdout",
     "output_type": "stream",
     "text": [
      "2061.0\n",
      "2061.0\n"
     ]
    },
    {
     "name": "stderr",
     "output_type": "stream",
     "text": [
      "C:\\Users\\Adm\\AppData\\Local\\Temp\\ipykernel_2768\\1256137663.py:1: FutureWarning: Series.__getitem__ treating keys as positions is deprecated. In a future version, integer keys will always be treated as labels (consistent with DataFrame behavior). To access a value by position, use `ser.iloc[pos]`\n",
      "  print(mountains_height[0])# 2061.0\n"
     ]
    }
   ],
   "source": [
    "print(mountains_height[0])# 2061.0\n",
    "print(mountains_height[\"Goverla\"])# 2061.0"
   ]
  },
  {
   "cell_type": "code",
   "execution_count": 14,
   "id": "0e9e4aef-e38a-4596-86e2-e403b6e933dd",
   "metadata": {},
   "outputs": [
    {
     "name": "stdout",
     "output_type": "stream",
     "text": [
      "Pip_Ivan          2028.5\n",
      "Goverla           2061.0\n",
      "Gutin_Tomnatik    2016.4\n",
      "Name: Height, m, dtype: float64\n"
     ]
    }
   ],
   "source": [
    "print(mountains_height[[\"Pip_Ivan\", \"Goverla\", \"Gutin_Tomnatik\"]])"
   ]
  },
  {
   "cell_type": "code",
   "execution_count": 12,
   "id": "f2a289ff-bafa-4906-b1ba-6afd2956f792",
   "metadata": {},
   "outputs": [
    {
     "name": "stdout",
     "output_type": "stream",
     "text": [
      "Goverla           2061.0\n",
      "Brebenskyl        2035.8\n",
      "Pip_Ivan          2028.5\n",
      "Petros            2022.5\n",
      "Gutin_Tomnatik    2016.4\n",
      "Name: Height, m, dtype: float64\n"
     ]
    }
   ],
   "source": [
    "print(mountains_height)"
   ]
  },
  {
   "cell_type": "code",
   "execution_count": 13,
   "id": "98a5a69f-2292-459f-b98b-744048198fac",
   "metadata": {},
   "outputs": [
    {
     "name": "stdout",
     "output_type": "stream",
     "text": [
      "Brebenskyl    2035.8\n",
      "Pip_Ivan      2028.5\n",
      "Name: Height, m, dtype: float64\n",
      "Brebenskyl    2035.8\n",
      "Pip_Ivan      2028.5\n",
      "Petros        2022.5\n",
      "Name: Height, m, dtype: float64\n"
     ]
    }
   ],
   "source": [
    "print(mountains_height[1:3])\n",
    "print(mountains_height[\"Brebenskyl\":\"Petros\"])"
   ]
  },
  {
   "cell_type": "code",
   "execution_count": 18,
   "id": "1d7d5e16-19e9-4b57-919b-1d78565a480d",
   "metadata": {},
   "outputs": [
    {
     "name": "stdout",
     "output_type": "stream",
     "text": [
      "Goverla       2061.0\n",
      "Brebenskyl    2035.8\n",
      "Name: Height, m, dtype: float64\n",
      "2035.8\n"
     ]
    }
   ],
   "source": [
    "print(mountains_height[mountains_height > 2030])\n",
    "print(mountains_height[\"Brebenskyl\"])"
   ]
  },
  {
   "cell_type": "code",
   "execution_count": null,
   "id": "f8af428f-226e-467a-bb45-a2fb3c60a2cc",
   "metadata": {},
   "outputs": [],
   "source": []
  },
  {
   "cell_type": "code",
   "execution_count": 17,
   "id": "323f13cb-a3bb-476c-b00a-7925198c24f0",
   "metadata": {},
   "outputs": [
    {
     "name": "stdout",
     "output_type": "stream",
     "text": [
      "Goverla            True\n",
      "Brebenskyl         True\n",
      "Pip_Ivan          False\n",
      "Petros            False\n",
      "Gutin_Tomnatik    False\n",
      "Name: Height, m, dtype: bool\n"
     ]
    }
   ],
   "source": [
    "print(mountains_height > 2030)\n"
   ]
  },
  {
   "cell_type": "code",
   "execution_count": 21,
   "id": "4b36fb5d-8a08-445a-aa90-b5b76e8f7417",
   "metadata": {},
   "outputs": [
    {
     "name": "stdout",
     "output_type": "stream",
     "text": [
      "5\n"
     ]
    }
   ],
   "source": [
    "import numpy as np\n",
    "\n",
    "print(np.size(mountains_height))"
   ]
  },
  {
   "cell_type": "code",
   "execution_count": 27,
   "id": "cbcc56c5-4989-4b40-abc5-c9bc9b62a07c",
   "metadata": {},
   "outputs": [
    {
     "name": "stdout",
     "output_type": "stream",
     "text": [
      "0    2061.0\n",
      "1    2035.8\n",
      "2    2028.5\n",
      "3    2022.5\n",
      "4    2016.4\n",
      "dtype: float64\n"
     ]
    }
   ],
   "source": [
    "# mountains_height = mountains_height.sort_index(inplace=False)\n",
    "mountains_height.sort_index(inplace=True)\n",
    "print(mountains_height)"
   ]
  },
  {
   "cell_type": "code",
   "execution_count": 33,
   "id": "79b78f93-205e-42d0-bbf5-22c94c234012",
   "metadata": {},
   "outputs": [
    {
     "name": "stdout",
     "output_type": "stream",
     "text": [
      "0    2061.0\n",
      "1    2035.8\n",
      "2    2028.5\n",
      "3    2022.5\n",
      "4    2016.4\n",
      "dtype: float64\n"
     ]
    }
   ],
   "source": [
    "mountains_height = mountains_height.sort_values(ascending=False)\n",
    "print(mountains_height)"
   ]
  }
 ],
 "metadata": {
  "kernelspec": {
   "display_name": "Python 3 (ipykernel)",
   "language": "python",
   "name": "python3"
  },
  "language_info": {
   "codemirror_mode": {
    "name": "ipython",
    "version": 3
   },
   "file_extension": ".py",
   "mimetype": "text/x-python",
   "name": "python",
   "nbconvert_exporter": "python",
   "pygments_lexer": "ipython3",
   "version": "3.11.7"
  }
 },
 "nbformat": 4,
 "nbformat_minor": 5
}
