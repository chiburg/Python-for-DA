{
 "cells": [
  {
   "cell_type": "code",
   "execution_count": null,
   "id": "9cf17e43-0ca6-40f6-a151-4393fefc02f8",
   "metadata": {},
   "outputs": [],
   "source": [
    "# робота з функціями fillna(), isnull(), dropna()\n",
    "#"
   ]
  },
  {
   "cell_type": "code",
   "execution_count": 25,
   "id": "88f7583b-f9d3-4578-8029-0271da62a7c1",
   "metadata": {},
   "outputs": [
    {
     "name": "stdout",
     "output_type": "stream",
     "text": [
      "   ID   Name\n",
      "0   1  Alice\n",
      "1   2    Bob\n",
      "2   4   None\n",
      "\n",
      "   ID   Name\n",
      "0   1  Alice\n",
      "1   2    Bob\n",
      "2   4      -\n"
     ]
    }
   ],
   "source": [
    "import pandas as pd\n",
    "\n",
    "data = {'ID': [1, 2, 4], 'Name': ['Alice', 'Bob', None]}\n",
    "df = pd.DataFrame(data)\n",
    "\n",
    "print(df)\n",
    "print()\n",
    "df.fillna('-', inplace=True)\n",
    "print(df)"
   ]
  },
  {
   "cell_type": "code",
   "execution_count": 22,
   "id": "4f0f5794-4c31-464f-a812-1a3bb10d6578",
   "metadata": {},
   "outputs": [
    {
     "name": "stdout",
     "output_type": "stream",
     "text": [
      "      ID   Name\n",
      "0  False  False\n",
      "1  False  False\n",
      "2  False  False\n"
     ]
    }
   ],
   "source": [
    "print(pd.isnull(df))"
   ]
  },
  {
   "cell_type": "code",
   "execution_count": 17,
   "id": "f128d5ee-05bc-4d80-aa96-68365228963c",
   "metadata": {},
   "outputs": [
    {
     "name": "stdout",
     "output_type": "stream",
     "text": [
      "   ID   Name\n",
      "0   1  Alice\n",
      "1   2    Bob\n"
     ]
    }
   ],
   "source": [
    "data = [[1, 'Alice'], [2, 'Bob']]\n",
    "df = pd.DataFrame(data, columns=['ID', 'Name'])\n",
    "\n",
    "print(df)"
   ]
  },
  {
   "cell_type": "code",
   "execution_count": 18,
   "id": "d3bcb24f-18c5-4443-92d2-0f30dbabd910",
   "metadata": {},
   "outputs": [
    {
     "name": "stdout",
     "output_type": "stream",
     "text": [
      "ID       int64\n",
      "Name    object\n",
      "dtype: object\n"
     ]
    }
   ],
   "source": [
    "print(df.dtypes)"
   ]
  },
  {
   "cell_type": "code",
   "execution_count": 14,
   "id": "57a798ec-c5c1-4cb3-a6de-839943d80cbf",
   "metadata": {},
   "outputs": [
    {
     "name": "stdout",
     "output_type": "stream",
     "text": [
      "(2, 2)\n",
      "Index([1, 2], dtype='int64')\n"
     ]
    }
   ],
   "source": [
    "print(df.shape)\n",
    "print(df.columns)"
   ]
  },
  {
   "cell_type": "code",
   "execution_count": 24,
   "id": "f5e6fe11-8d90-45c3-aa1c-cef2904f746d",
   "metadata": {},
   "outputs": [
    {
     "name": "stdout",
     "output_type": "stream",
     "text": [
      "   ID   Name\n",
      "0   1  Alice\n",
      "1   2    Bob\n",
      "2   4   None\n",
      "\n",
      "   ID   Name\n",
      "0   1  Alice\n",
      "1   2    Bob\n"
     ]
    }
   ],
   "source": [
    "import pandas as pd\n",
    "\n",
    "data = {'ID': [1, 2, 4], 'Name': ['Alice', 'Bob', None]}\n",
    "df = pd.DataFrame(data)\n",
    "\n",
    "print(df)\n",
    "df = df.dropna()\n",
    "print()\n",
    "print(df)"
   ]
  }
 ],
 "metadata": {
  "kernelspec": {
   "display_name": "Python 3 (ipykernel)",
   "language": "python",
   "name": "python3"
  },
  "language_info": {
   "codemirror_mode": {
    "name": "ipython",
    "version": 3
   },
   "file_extension": ".py",
   "mimetype": "text/x-python",
   "name": "python",
   "nbconvert_exporter": "python",
   "pygments_lexer": "ipython3",
   "version": "3.11.7"
  }
 },
 "nbformat": 4,
 "nbformat_minor": 5
}
