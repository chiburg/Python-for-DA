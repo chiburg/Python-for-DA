{
 "cells": [
  {
   "cell_type": "code",
   "execution_count": 6,
   "id": "bbb63596-70d1-430e-bb4c-977f15ccce6d",
   "metadata": {},
   "outputs": [
    {
     "name": "stdout",
     "output_type": "stream",
     "text": [
      "5\n",
      "[5 8]\n",
      "[1 2]\n"
     ]
    }
   ],
   "source": [
    "# приклад з конспекту\n",
    "import numpy as np\n",
    "\n",
    "a = np.array([[1, 2, 3], [4, 5, 6], [7, 8, 9]])\n",
    "print(a[1, 1])\n",
    "print(a[1:, 1])\n",
    "print(a[0, :2])"
   ]
  },
  {
   "cell_type": "code",
   "execution_count": 7,
   "id": "41dbca52-f6ac-404c-8cdc-173743167347",
   "metadata": {},
   "outputs": [
    {
     "name": "stdout",
     "output_type": "stream",
     "text": [
      "[[1 2 3]\n",
      " [4 5 6]\n",
      " [7 8 9]]\n"
     ]
    }
   ],
   "source": [
    "print(a)"
   ]
  },
  {
   "cell_type": "code",
   "execution_count": 1,
   "id": "513e34ce-8f1b-4898-bf65-730fa1b6e8e9",
   "metadata": {},
   "outputs": [
    {
     "name": "stdout",
     "output_type": "stream",
     "text": [
      "[1, 2, 3, 4, 6]\n",
      "[1, 2, 3, 4, 6]\n",
      "[1, 2, 3, 4, 6]\n",
      "\n",
      "True\n",
      "False\n"
     ]
    }
   ],
   "source": [
    "# зрізи (слайси)\n",
    "\n",
    "# створюємо простий список\n",
    "s = [1, 2, 3, 4, 6]\n",
    "\n",
    "# посилання на список\n",
    "d = s\n",
    "\n",
    "# копія списку\n",
    "f = s[:]\n",
    "print(s)\n",
    "print(d)\n",
    "print(f)\n",
    "print()\n",
    "print(d is s)\n",
    "print(f is s)"
   ]
  },
  {
   "cell_type": "code",
   "execution_count": 4,
   "id": "2ff217e8-afb0-4483-bc77-c5584c73e201",
   "metadata": {},
   "outputs": [
    {
     "name": "stdout",
     "output_type": "stream",
     "text": [
      "[2, 3]\n",
      "[3, 4, 6]\n",
      "[3]\n"
     ]
    }
   ],
   "source": [
    "# зрізи з двома параметрами\n",
    "s = [1, 2, 3, 4, 6]\n",
    "\n",
    "print(s[1:-2])   # всі елементи, крім першого\n",
    "print(s[-3:])  # останні 3 елемента\n",
    "print(s[2:-2]) # відкидаємо перші і останні 2 елементи"
   ]
  },
  {
   "cell_type": "code",
   "execution_count": 5,
   "id": "9729c30d-ae9f-4492-9b68-a0f9d80dfbca",
   "metadata": {},
   "outputs": [
    {
     "name": "stdout",
     "output_type": "stream",
     "text": [
      "[1, 3, 6]\n",
      "[2, 4]\n",
      "[6, 4, 3, 2, 1]\n"
     ]
    }
   ],
   "source": [
    "# зрізи з третім параметром (з кроком)\n",
    "s = [1, 2, 3, 4, 6]\n",
    "\n",
    "print(s[::2])   # парні елементи (тобто стоять на парних місцях)\n",
    "print(s[1:4:2]) # елементи з першого по четвертий з кроком 2\n",
    "\n",
    "# зріз з кроком -1\n",
    "print(s[::-1])"
   ]
  }
 ],
 "metadata": {
  "kernelspec": {
   "display_name": "Python 3 (ipykernel)",
   "language": "python",
   "name": "python3"
  },
  "language_info": {
   "codemirror_mode": {
    "name": "ipython",
    "version": 3
   },
   "file_extension": ".py",
   "mimetype": "text/x-python",
   "name": "python",
   "nbconvert_exporter": "python",
   "pygments_lexer": "ipython3",
   "version": "3.11.7"
  }
 },
 "nbformat": 4,
 "nbformat_minor": 5
}
