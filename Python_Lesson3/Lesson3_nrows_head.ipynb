{
 "cells": [
  {
   "cell_type": "code",
   "execution_count": null,
   "id": "2fe16778-136d-4de2-a6be-6aeaf36c1f84",
   "metadata": {},
   "outputs": [],
   "source": [
    "# різниця між nrows та head"
   ]
  },
  {
   "cell_type": "code",
   "execution_count": 2,
   "id": "0ed90586-55d9-424c-90e7-988ffac86bf6",
   "metadata": {},
   "outputs": [
    {
     "name": "stdout",
     "output_type": "stream",
     "text": [
      "            name                          email           phone  favorite\n",
      "0  Allen Raymond      nulla.ante@vestibul.co.uk  (992) 914-3792     False\n",
      "1    Chaim Lewis            dui.in@egetlacus.ca  (294) 840-6685     False\n",
      "2   Kennedy Lane  mattis.Cras@nonenimMauris.net  (542) 451-7038      True\n",
      "3     Wylie Pope              est@utquamvel.net  (692) 802-2949     False\n",
      "\n",
      "            name                      email           phone  favorite\n",
      "0  Allen Raymond  nulla.ante@vestibul.co.uk  (992) 914-3792     False\n",
      "1    Chaim Lewis        dui.in@egetlacus.ca  (294) 840-6685     False\n"
     ]
    }
   ],
   "source": [
    "import pandas as pd\n",
    "\n",
    "df = pd.read_csv(\"D://Lesson3/contacts2.csv\", nrows=4)\n",
    "\n",
    "print(df)\n",
    "print()\n",
    "print(df.head(2))"
   ]
  }
 ],
 "metadata": {
  "kernelspec": {
   "display_name": "Python 3 (ipykernel)",
   "language": "python",
   "name": "python3"
  },
  "language_info": {
   "codemirror_mode": {
    "name": "ipython",
    "version": 3
   },
   "file_extension": ".py",
   "mimetype": "text/x-python",
   "name": "python",
   "nbconvert_exporter": "python",
   "pygments_lexer": "ipython3",
   "version": "3.11.7"
  }
 },
 "nbformat": 4,
 "nbformat_minor": 5
}
