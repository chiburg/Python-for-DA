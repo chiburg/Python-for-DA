{
 "cells": [
  {
   "cell_type": "code",
   "execution_count": null,
   "id": "b1ccef52-816d-421c-8fb0-a4b75d472689",
   "metadata": {},
   "outputs": [],
   "source": [
    "# перевірка типу елементів масиву\n",
    "\n",
    "import numpy as np\n",
    "\n",
    "arr = np.array([1, 2, 3, 4, None])\n",
    "\n",
    "print(arr.dtype)\n",
    "\n",
    "arr = np.array(['apple', 'bananaa', 'cherry6666', 4, 'yy', 'ttt'])\n",
    "\n",
    "print(arr.dtype)\n",
    "\n",
    "print(np.size(arr))"
   ]
  },
  {
   "cell_type": "code",
   "execution_count": null,
   "id": "06a42124-0444-4ed2-98d9-a77edf8b9f2c",
   "metadata": {},
   "outputs": [],
   "source": [
    "print(arr[0])"
   ]
  },
  {
   "cell_type": "code",
   "execution_count": null,
   "id": "62ffe3d1-9bfe-423d-98a9-ba1960682dd9",
   "metadata": {},
   "outputs": [],
   "source": [
    "print(arr[2] + arr[3])"
   ]
  },
  {
   "cell_type": "code",
   "execution_count": null,
   "id": "500d96b7-a7a9-4c1a-8e98-c19093a7825a",
   "metadata": {},
   "outputs": [],
   "source": [
    "print(arr[1:])"
   ]
  },
  {
   "cell_type": "code",
   "execution_count": null,
   "id": "4fd2420f-4831-4e55-9d9b-aba335b7e76d",
   "metadata": {},
   "outputs": [],
   "source": [
    "# опреації з масивами\n",
    "\n",
    "arr1 = np.array([1, 2, 3])\n",
    "\n",
    "arr2 = np.array([4, 5, 6])\n",
    "\n",
    "print(arr1 + arr2) \n",
    "print(arr1 - arr2)\n",
    "print(arr1 * arr2)\n",
    "print(arr1 / arr2)"
   ]
  },
  {
   "cell_type": "code",
   "execution_count": null,
   "id": "36f46132-a562-40d7-a502-28e499194885",
   "metadata": {},
   "outputs": [],
   "source": [
    "# створення нульового масиву\n",
    "\n",
    "nul_arr = np.zeros(6)\n",
    "print(nul_arr)"
   ]
  },
  {
   "cell_type": "code",
   "execution_count": null,
   "id": "d452c1e7-3b28-4b13-bbea-117dd1eb3b52",
   "metadata": {},
   "outputs": [],
   "source": [
    "# створення одиничного масиву\n",
    "\n",
    "s_arr = np.ones(9, dtype=int)\n",
    "print(s_arr)"
   ]
  },
  {
   "cell_type": "code",
   "execution_count": null,
   "id": "27123ac4-dad6-4e8f-8c7c-f4e243006f5c",
   "metadata": {},
   "outputs": [],
   "source": [
    "arr3 = np.array([[1, 2, 3], [4, 5, 6]])\n",
    "print(arr3)"
   ]
  },
  {
   "cell_type": "code",
   "execution_count": null,
   "id": "c7c88233-bbbd-4dc2-bbc6-60cb12c16bff",
   "metadata": {},
   "outputs": [],
   "source": [
    "print(np.shape(arr3))\n",
    "print(np.size(arr3))"
   ]
  },
  {
   "cell_type": "code",
   "execution_count": null,
   "id": "dfa00643-dad9-4f54-bebb-53a595d1eb90",
   "metadata": {},
   "outputs": [],
   "source": [
    "# створення одиничної матриці\n",
    "\n",
    "m1 = np.identity(5, dtype=int)\n",
    "print(m1)"
   ]
  },
  {
   "cell_type": "code",
   "execution_count": null,
   "id": "09be09cf-d4e6-4fa7-bbcc-24a82dfbb84d",
   "metadata": {},
   "outputs": [],
   "source": [
    "# задання проміжку\n",
    "# аналог range(3) 0 1 2\n",
    "\n",
    "a = np.arange(3)\n",
    "print(a)\n",
    "\n",
    "a = np.arange(3, 6, 0.5)\n",
    "print(a)"
   ]
  },
  {
   "cell_type": "code",
   "execution_count": null,
   "id": "dc385ecf-0945-4e56-901d-fb244e2780ab",
   "metadata": {},
   "outputs": [],
   "source": [
    "# отримання випадкових значень\n",
    "\n",
    "b = np.random.random(6)\n",
    "print(b)"
   ]
  },
  {
   "cell_type": "code",
   "execution_count": null,
   "id": "2890250a-8696-463b-b2c2-a14a43b8adc8",
   "metadata": {},
   "outputs": [],
   "source": [
    "# математичні операції з масивами (+-*/)\n",
    "\n",
    "arr1 = np.array([1, 2, 3])\n",
    "\n",
    "arr2 = np.array([4, 5, 6])\n",
    "\n",
    "print(np.add(arr1, arr2))\n",
    "print(np.subtract(arr1, arr2))\n",
    "print(np.multiply(arr1, arr2))\n",
    "print(np.divide(arr1, arr2))"
   ]
  },
  {
   "cell_type": "code",
   "execution_count": null,
   "id": "e9a7f073-ad4d-4a2e-9d1f-b40df58f216d",
   "metadata": {},
   "outputs": [],
   "source": [
    "# агрегатні функції\n",
    "\n",
    "b = np.random.random(6)\n",
    "print(b)\n",
    "print(b.min())\n",
    "print(b.max())\n",
    "print(b.sum())\n",
    "print(b.mean())\n",
    "print(b.prod())"
   ]
  }
 ],
 "metadata": {
  "kernelspec": {
   "display_name": "Python 3 (ipykernel)",
   "language": "python",
   "name": "python3"
  },
  "language_info": {
   "codemirror_mode": {
    "name": "ipython",
    "version": 3
   },
   "file_extension": ".py",
   "mimetype": "text/x-python",
   "name": "python",
   "nbconvert_exporter": "python",
   "pygments_lexer": "ipython3",
   "version": "3.11.7"
  }
 },
 "nbformat": 4,
 "nbformat_minor": 5
}
