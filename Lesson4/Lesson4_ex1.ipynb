{
 "cells": [
  {
   "cell_type": "code",
   "execution_count": 1,
   "id": "17412533-cafe-45bc-80a0-6c5c5eb2e5c2",
   "metadata": {},
   "outputs": [
    {
     "data": {
      "text/html": [
       "<div>\n",
       "<style scoped>\n",
       "    .dataframe tbody tr th:only-of-type {\n",
       "        vertical-align: middle;\n",
       "    }\n",
       "\n",
       "    .dataframe tbody tr th {\n",
       "        vertical-align: top;\n",
       "    }\n",
       "\n",
       "    .dataframe thead th {\n",
       "        text-align: right;\n",
       "    }\n",
       "</style>\n",
       "<table border=\"1\" class=\"dataframe\">\n",
       "  <thead>\n",
       "    <tr style=\"text-align: right;\">\n",
       "      <th></th>\n",
       "      <th>A</th>\n",
       "      <th>B</th>\n",
       "    </tr>\n",
       "  </thead>\n",
       "  <tbody>\n",
       "    <tr>\n",
       "      <th>a</th>\n",
       "      <td>2</td>\n",
       "      <td>4</td>\n",
       "    </tr>\n",
       "    <tr>\n",
       "      <th>b</th>\n",
       "      <td>5</td>\n",
       "      <td>5</td>\n",
       "    </tr>\n",
       "    <tr>\n",
       "      <th>c</th>\n",
       "      <td>8</td>\n",
       "      <td>6</td>\n",
       "    </tr>\n",
       "  </tbody>\n",
       "</table>\n",
       "</div>"
      ],
      "text/plain": [
       "   A  B\n",
       "a  2  4\n",
       "b  5  5\n",
       "c  8  6"
      ]
     },
     "execution_count": 1,
     "metadata": {},
     "output_type": "execute_result"
    }
   ],
   "source": [
    "import pandas as pd\n",
    "\n",
    "df = pd.DataFrame({\"A\":[2,5,8], \"B\":[4,5,6]}, index=[\"a\",\"b\",\"c\"])\n",
    "df"
   ]
  },
  {
   "cell_type": "code",
   "execution_count": 2,
   "id": "c3462e80-69b5-47b7-b4f6-c7fec805d4d0",
   "metadata": {},
   "outputs": [
    {
     "data": {
      "text/plain": [
       "A    1.732051\n",
       "B    0.577350\n",
       "dtype: float64"
      ]
     },
     "execution_count": 2,
     "metadata": {},
     "output_type": "execute_result"
    }
   ],
   "source": [
    "df.sem()"
   ]
  },
  {
   "cell_type": "code",
   "execution_count": 3,
   "id": "11a1347f-f10c-4395-972d-620ebadc3c87",
   "metadata": {},
   "outputs": [
    {
     "data": {
      "text/plain": [
       "a    1.0\n",
       "b    0.0\n",
       "c    1.0\n",
       "dtype: float64"
      ]
     },
     "execution_count": 3,
     "metadata": {},
     "output_type": "execute_result"
    }
   ],
   "source": [
    "df.sem(axis=1)"
   ]
  },
  {
   "cell_type": "code",
   "execution_count": 10,
   "id": "26251867-fcec-4a79-ae66-363b599457ed",
   "metadata": {},
   "outputs": [
    {
     "name": "stdout",
     "output_type": "stream",
     "text": [
      "      Імена  Вік Спеціальність\n",
      "3      Anna   21          Math\n",
      "1    Bohdan   22       Physics\n",
      "2     Olena   20       Biology\n",
      "5      Ivan   21          Math\n",
      "4  Kateryna   23       Physics\n",
      "\n",
      "\n",
      "2    20\n",
      "5    21\n",
      "4    23\n",
      "Name: Вік, dtype: int64\n"
     ]
    }
   ],
   "source": [
    "students_df = pd.DataFrame({\n",
    "    'Імена': ['Anna', 'Bohdan', 'Olena', 'Ivan', 'Kateryna'],\n",
    "    'Вік': [21, 22, 20, 21, 23],\n",
    "    'Спеціальність': ['Math', 'Physics', 'Biology', 'Math', 'Physics']\n",
    "    }, index=[3, 1, 2, 5, 4])\n",
    "\n",
    "print(students_df)\n",
    "print()\n",
    "# students_df.sort_index(inplace=True)\n",
    "# print(students_df)\n",
    "print()\n",
    "subset = students_df.loc[2:4, 'Вік']\n",
    "print(subset)"
   ]
  },
  {
   "cell_type": "code",
   "execution_count": 17,
   "id": "52366a03-4c11-49d0-9883-85db96e125c8",
   "metadata": {},
   "outputs": [],
   "source": [
    "# Вибірка студентів, які вивчають фізику, за допомогою loc\n",
    "physics_students = students_df.loc[students_df['Спеціальність'] == 'Physics']\n",
    "\n",
    "# Вибірка студентів за конкретними індексами за допомогою iloc\n",
    "specific_students = students_df.iloc[[1, 4]]"
   ]
  },
  {
   "cell_type": "code",
   "execution_count": 18,
   "id": "dac0435e-d4f3-470b-9c43-116f9bbbd61e",
   "metadata": {},
   "outputs": [
    {
     "name": "stdout",
     "output_type": "stream",
     "text": [
      "      Імена  Вік Спеціальність\n",
      "1    Bohdan   22       Physics\n",
      "4  Kateryna   23       Physics\n",
      "\n",
      "      Імена  Вік Спеціальність\n",
      "1    Bohdan   22       Physics\n",
      "4  Kateryna   23       Physics\n"
     ]
    }
   ],
   "source": [
    "print(physics_students)\n",
    "print()\n",
    "print(specific_students)"
   ]
  }
 ],
 "metadata": {
  "kernelspec": {
   "display_name": "Python 3 (ipykernel)",
   "language": "python",
   "name": "python3"
  },
  "language_info": {
   "codemirror_mode": {
    "name": "ipython",
    "version": 3
   },
   "file_extension": ".py",
   "mimetype": "text/x-python",
   "name": "python",
   "nbconvert_exporter": "python",
   "pygments_lexer": "ipython3",
   "version": "3.11.7"
  }
 },
 "nbformat": 4,
 "nbformat_minor": 5
}
