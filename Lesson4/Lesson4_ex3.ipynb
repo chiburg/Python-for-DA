{
 "cells": [
  {
   "cell_type": "code",
   "execution_count": 18,
   "id": "690d3da5-460a-45ea-8233-51f76e66e486",
   "metadata": {},
   "outputs": [
    {
     "data": {
      "text/html": [
       "<div>\n",
       "<style scoped>\n",
       "    .dataframe tbody tr th:only-of-type {\n",
       "        vertical-align: middle;\n",
       "    }\n",
       "\n",
       "    .dataframe tbody tr th {\n",
       "        vertical-align: top;\n",
       "    }\n",
       "\n",
       "    .dataframe thead th {\n",
       "        text-align: right;\n",
       "    }\n",
       "</style>\n",
       "<table border=\"1\" class=\"dataframe\">\n",
       "  <thead>\n",
       "    <tr style=\"text-align: right;\">\n",
       "      <th></th>\n",
       "      <th>Імена</th>\n",
       "      <th>Вік</th>\n",
       "      <th>Спеціальність</th>\n",
       "    </tr>\n",
       "  </thead>\n",
       "  <tbody>\n",
       "    <tr>\n",
       "      <th>0</th>\n",
       "      <td>Anna</td>\n",
       "      <td>21</td>\n",
       "      <td>Math</td>\n",
       "    </tr>\n",
       "    <tr>\n",
       "      <th>1</th>\n",
       "      <td>Bohdan</td>\n",
       "      <td>22</td>\n",
       "      <td>Physics</td>\n",
       "    </tr>\n",
       "    <tr>\n",
       "      <th>2</th>\n",
       "      <td>Olena</td>\n",
       "      <td>20</td>\n",
       "      <td>Biology</td>\n",
       "    </tr>\n",
       "    <tr>\n",
       "      <th>3</th>\n",
       "      <td>Ivan</td>\n",
       "      <td>21</td>\n",
       "      <td>Math</td>\n",
       "    </tr>\n",
       "    <tr>\n",
       "      <th>4</th>\n",
       "      <td>Kateryna</td>\n",
       "      <td>23</td>\n",
       "      <td>Physics</td>\n",
       "    </tr>\n",
       "  </tbody>\n",
       "</table>\n",
       "</div>"
      ],
      "text/plain": [
       "      Імена  Вік Спеціальність\n",
       "0      Anna   21          Math\n",
       "1    Bohdan   22       Physics\n",
       "2     Olena   20       Biology\n",
       "3      Ivan   21          Math\n",
       "4  Kateryna   23       Physics"
      ]
     },
     "execution_count": 18,
     "metadata": {},
     "output_type": "execute_result"
    }
   ],
   "source": [
    "import pandas as pd\n",
    "\n",
    "students_data = {\n",
    "    'Імена': ['Anna', 'Bohdan', 'Olena', 'Ivan', 'Kateryna'],\n",
    "    'Вік': [21, 22, 20, 21, 23],\n",
    "    'Спеціальність': ['Math', 'Physics', 'Biology', 'Math', 'Physics']\n",
    "}\n",
    "\n",
    "students_df = pd.DataFrame(students_data)\n",
    "students_df"
   ]
  },
  {
   "cell_type": "code",
   "execution_count": null,
   "id": "7d42f353-ed20-4b93-af9f-c2fbfa0dd653",
   "metadata": {},
   "outputs": [],
   "source": []
  },
  {
   "cell_type": "code",
   "execution_count": 4,
   "id": "3bfba576-6ae8-4515-898c-903978f2ccda",
   "metadata": {},
   "outputs": [
    {
     "name": "stdout",
     "output_type": "stream",
     "text": [
      "107\n"
     ]
    }
   ],
   "source": [
    "total_age = students_df['Вік'].sum()\n",
    "print(total_age)"
   ]
  },
  {
   "cell_type": "code",
   "execution_count": 5,
   "id": "85facf70-d145-45ee-8057-cc68f0efaf6d",
   "metadata": {},
   "outputs": [
    {
     "data": {
      "text/plain": [
       "21.4"
      ]
     },
     "execution_count": 5,
     "metadata": {},
     "output_type": "execute_result"
    }
   ],
   "source": [
    "average_age = students_df['Вік'].mean()"
   ]
  },
  {
   "cell_type": "code",
   "execution_count": 16,
   "id": "705ee510-e341-42b2-97c7-36119da12759",
   "metadata": {},
   "outputs": [
    {
     "name": "stdout",
     "output_type": "stream",
     "text": [
      "21.0\n"
     ]
    }
   ],
   "source": [
    "median_age = students_df['Вік'].median()\n",
    "print(median_age)"
   ]
  },
  {
   "cell_type": "code",
   "execution_count": null,
   "id": "7abe845e-a268-42a2-b2da-7875a9336875",
   "metadata": {},
   "outputs": [],
   "source": [
    "min_age = students_df['Вік'].min()\n",
    "max_age = students_df['Вік'].max()"
   ]
  },
  {
   "cell_type": "code",
   "execution_count": 8,
   "id": "e03e1318-f35b-4f60-91e2-ffe665edac0a",
   "metadata": {},
   "outputs": [
    {
     "name": "stdout",
     "output_type": "stream",
     "text": [
      "1.2999999999999998\n"
     ]
    }
   ],
   "source": [
    "std_age = students_df['Вік'].std()\n",
    "variance_age = students_df['Вік'].var()\n",
    "print(variance_age)"
   ]
  },
  {
   "cell_type": "code",
   "execution_count": 11,
   "id": "19567a66-a683-4fa0-b258-98e2acc8672e",
   "metadata": {},
   "outputs": [
    {
     "name": "stdout",
     "output_type": "stream",
     "text": [
      "4\n"
     ]
    }
   ],
   "source": [
    "count_age = students_df['Вік'].count()\n",
    "print(count_age)"
   ]
  },
  {
   "cell_type": "code",
   "execution_count": 12,
   "id": "ca1ecaca-de85-49ec-907d-ec9866413db5",
   "metadata": {},
   "outputs": [
    {
     "name": "stdout",
     "output_type": "stream",
     "text": [
      "3\n"
     ]
    }
   ],
   "source": [
    "unique_specialties = students_df['Спеціальність'].nunique()\n",
    "print(unique_specialties)"
   ]
  },
  {
   "cell_type": "code",
   "execution_count": 19,
   "id": "d52fedc3-1fa5-47b0-bf4c-62dbf51a296f",
   "metadata": {},
   "outputs": [
    {
     "data": {
      "text/plain": [
       "22.0"
      ]
     },
     "execution_count": 19,
     "metadata": {},
     "output_type": "execute_result"
    }
   ],
   "source": [
    "first_quartile_age = students_df['Вік'].quantile(0.75)# 21.0\n",
    "first_quartile_age"
   ]
  },
  {
   "cell_type": "code",
   "execution_count": 20,
   "id": "88266b22-5376-4710-8851-e56c5f12b823",
   "metadata": {},
   "outputs": [
    {
     "name": "stdout",
     "output_type": "stream",
     "text": [
      "4\n"
     ]
    }
   ],
   "source": [
    "# Індекс максимального значення.\n",
    "idx_max_age = students_df['Вік'].idxmax()\n",
    "print(idx_max_age)"
   ]
  },
  {
   "cell_type": "code",
   "execution_count": null,
   "id": "d757658c-8e95-4afb-ad46-38b5bdb6197f",
   "metadata": {},
   "outputs": [],
   "source": [
    "idx_min_age = students_df['Вік'].idxmin()"
   ]
  },
  {
   "cell_type": "code",
   "execution_count": 21,
   "id": "f0da7314-4f67-423e-8794-e7b906f37e45",
   "metadata": {},
   "outputs": [
    {
     "data": {
      "text/plain": [
       "numpy.int64"
      ]
     },
     "execution_count": 21,
     "metadata": {},
     "output_type": "execute_result"
    }
   ],
   "source": [
    "product_age = students_df['Вік'].prod()\n",
    "type(students_df['Вік'].prod())"
   ]
  },
  {
   "cell_type": "code",
   "execution_count": 22,
   "id": "82b1b97f-628a-471f-8040-80767f7ebe12",
   "metadata": {},
   "outputs": [
    {
     "name": "stdout",
     "output_type": "stream",
     "text": [
      "0.5099019513592784\n"
     ]
    }
   ],
   "source": [
    "sem_age = students_df['Вік'].sem()\n",
    "print(sem_age)"
   ]
  },
  {
   "cell_type": "markdown",
   "id": "b03a481d-b81e-4cc1-843f-efeedc864952",
   "metadata": {},
   "source": [
    "grouped.agg(func=None, *args, **kwargs)"
   ]
  },
  {
   "cell_type": "code",
   "execution_count": 25,
   "id": "0a672aa2-8214-4ae3-899d-6c8914f275eb",
   "metadata": {},
   "outputs": [
    {
     "name": "stdout",
     "output_type": "stream",
     "text": [
      "               min  max  mean\n",
      "Спеціальність                \n",
      "Biology         20   20  20.0\n",
      "Math            21   21  21.0\n",
      "Physics         22   23  22.5\n"
     ]
    }
   ],
   "source": [
    "grouped = students_df.groupby('Спеціальність')\n",
    "min_max_age = grouped['Вік'].agg(['min', 'max', 'mean'])\n",
    "\n",
    "#print(type(grouped))\n",
    "print(min_max_age)"
   ]
  },
  {
   "cell_type": "code",
   "execution_count": 27,
   "id": "29d1270d-5fda-441e-95d9-1e30642ee27a",
   "metadata": {},
   "outputs": [
    {
     "name": "stdout",
     "output_type": "stream",
     "text": [
      "Спеціальність\n",
      "Biology    20\n",
      "Math       21\n",
      "Physics    23\n",
      "Name: Вік, dtype: int64\n"
     ]
    }
   ],
   "source": [
    "result = grouped['Вік'].agg(lambda x: x.max())\n",
    "print(result)"
   ]
  },
  {
   "cell_type": "markdown",
   "id": "7b688836-230c-403f-b54f-c3e51feeb815",
   "metadata": {},
   "source": [
    "grouped.transform(func=None, *args, **kwargs)"
   ]
  },
  {
   "cell_type": "code",
   "execution_count": 28,
   "id": "a8753d22-e293-4caf-b085-568f6fab5f45",
   "metadata": {},
   "outputs": [
    {
     "data": {
      "text/plain": [
       "0    21.0\n",
       "1    22.5\n",
       "2    20.0\n",
       "3    21.0\n",
       "4    22.5\n",
       "Name: Вік, dtype: float64"
      ]
     },
     "execution_count": 28,
     "metadata": {},
     "output_type": "execute_result"
    }
   ],
   "source": [
    "students_df.groupby('Спеціальність')['Вік'].transform('mean')"
   ]
  },
  {
   "cell_type": "code",
   "execution_count": 29,
   "id": "9a422916-bd3b-4ab4-ba1f-1e794c8afda1",
   "metadata": {},
   "outputs": [],
   "source": [
    "students_df['Середній вік'] = students_df.groupby('Спеціальність')['Вік'].transform('mean')"
   ]
  },
  {
   "cell_type": "code",
   "execution_count": 30,
   "id": "883ea1cf-7637-4c78-ade2-32f9dbbdf550",
   "metadata": {},
   "outputs": [
    {
     "data": {
      "text/html": [
       "<div>\n",
       "<style scoped>\n",
       "    .dataframe tbody tr th:only-of-type {\n",
       "        vertical-align: middle;\n",
       "    }\n",
       "\n",
       "    .dataframe tbody tr th {\n",
       "        vertical-align: top;\n",
       "    }\n",
       "\n",
       "    .dataframe thead th {\n",
       "        text-align: right;\n",
       "    }\n",
       "</style>\n",
       "<table border=\"1\" class=\"dataframe\">\n",
       "  <thead>\n",
       "    <tr style=\"text-align: right;\">\n",
       "      <th></th>\n",
       "      <th>Імена</th>\n",
       "      <th>Вік</th>\n",
       "      <th>Спеціальність</th>\n",
       "      <th>Середній вік</th>\n",
       "    </tr>\n",
       "  </thead>\n",
       "  <tbody>\n",
       "    <tr>\n",
       "      <th>0</th>\n",
       "      <td>Anna</td>\n",
       "      <td>21</td>\n",
       "      <td>Math</td>\n",
       "      <td>21.0</td>\n",
       "    </tr>\n",
       "    <tr>\n",
       "      <th>1</th>\n",
       "      <td>Bohdan</td>\n",
       "      <td>22</td>\n",
       "      <td>Physics</td>\n",
       "      <td>22.5</td>\n",
       "    </tr>\n",
       "    <tr>\n",
       "      <th>2</th>\n",
       "      <td>Olena</td>\n",
       "      <td>20</td>\n",
       "      <td>Biology</td>\n",
       "      <td>20.0</td>\n",
       "    </tr>\n",
       "    <tr>\n",
       "      <th>3</th>\n",
       "      <td>Ivan</td>\n",
       "      <td>21</td>\n",
       "      <td>Math</td>\n",
       "      <td>21.0</td>\n",
       "    </tr>\n",
       "    <tr>\n",
       "      <th>4</th>\n",
       "      <td>Kateryna</td>\n",
       "      <td>23</td>\n",
       "      <td>Physics</td>\n",
       "      <td>22.5</td>\n",
       "    </tr>\n",
       "  </tbody>\n",
       "</table>\n",
       "</div>"
      ],
      "text/plain": [
       "      Імена  Вік Спеціальність  Середній вік\n",
       "0      Anna   21          Math          21.0\n",
       "1    Bohdan   22       Physics          22.5\n",
       "2     Olena   20       Biology          20.0\n",
       "3      Ivan   21          Math          21.0\n",
       "4  Kateryna   23       Physics          22.5"
      ]
     },
     "execution_count": 30,
     "metadata": {},
     "output_type": "execute_result"
    }
   ],
   "source": [
    "students_df"
   ]
  },
  {
   "cell_type": "code",
   "execution_count": 31,
   "id": "f44fd9b7-17c2-4979-ac58-fd4af2fc1a3c",
   "metadata": {},
   "outputs": [
    {
     "name": "stdout",
     "output_type": "stream",
     "text": [
      "      Імена  Вік Спеціальність  Середній вік  Старше за середнє\n",
      "0      Anna   21          Math          21.0                0.0\n",
      "1    Bohdan   22       Physics          22.5               -0.5\n",
      "2     Olena   20       Biology          20.0                0.0\n",
      "3      Ivan   21          Math          21.0                0.0\n",
      "4  Kateryna   23       Physics          22.5                0.5\n"
     ]
    }
   ],
   "source": [
    "students_df['Старше за середнє'] = students_df.groupby('Спеціальність')['Вік'].transform(lambda x: x - x.mean())\n",
    "\n",
    "print(students_df)"
   ]
  },
  {
   "cell_type": "code",
   "execution_count": null,
   "id": "0a33d11e-a080-47a7-97ce-9a1db677483e",
   "metadata": {},
   "outputs": [],
   "source": [
    "DataFrame.sort_values(by, axis=0, ascending=True, inplace=False, na_position='last')"
   ]
  },
  {
   "cell_type": "code",
   "execution_count": 33,
   "id": "7dc1dedc-ac12-4ffc-9171-6612bb21ada4",
   "metadata": {},
   "outputs": [],
   "source": [
    "import pandas as pd\n",
    "\n",
    "students_data = {\n",
    "    'Імена': ['Anna', 'Bohdan', 'Olena', 'Ivan', 'Kateryna'],\n",
    "    'Вік': [21, 22, 20, 21, 23],\n",
    "    'Спеціальність': ['Math', 'Physics', 'Biology', 'Math', 'Physics']\n",
    "}\n",
    "\n",
    "students_df = pd.DataFrame(students_data)"
   ]
  },
  {
   "cell_type": "code",
   "execution_count": 35,
   "id": "a44886cc-a840-4f52-90e8-6b8eec6d32aa",
   "metadata": {},
   "outputs": [
    {
     "name": "stdout",
     "output_type": "stream",
     "text": [
      "      Імена  Вік Спеціальність\n",
      "2     Olena   20       Biology\n",
      "0      Anna   21          Math\n",
      "3      Ivan   21          Math\n",
      "1    Bohdan   22       Physics\n",
      "4  Kateryna   23       Physics\n",
      "<class 'pandas.core.frame.DataFrame'>\n"
     ]
    }
   ],
   "source": [
    "sorted_df = students_df.sort_values(by='Вік')\n",
    "print(sorted_df)\n",
    "print(type(sorted_df))"
   ]
  }
 ],
 "metadata": {
  "kernelspec": {
   "display_name": "Python 3 (ipykernel)",
   "language": "python",
   "name": "python3"
  },
  "language_info": {
   "codemirror_mode": {
    "name": "ipython",
    "version": 3
   },
   "file_extension": ".py",
   "mimetype": "text/x-python",
   "name": "python",
   "nbconvert_exporter": "python",
   "pygments_lexer": "ipython3",
   "version": "3.11.7"
  }
 },
 "nbformat": 4,
 "nbformat_minor": 5
}
