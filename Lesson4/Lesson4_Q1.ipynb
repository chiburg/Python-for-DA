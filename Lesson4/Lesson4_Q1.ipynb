{
 "cells": [
  {
   "cell_type": "code",
   "execution_count": null,
   "id": "7c9351d2-9eb2-47f6-b470-8c0b01e19313",
   "metadata": {},
   "outputs": [],
   "source": [
    "import pandas as pd\n",
    "\n",
    "students_df = pd.DataFrame({\n",
    "    'Імена': ['Anna', 'Bohdan', 'Olena', 'Ivan', 'Kateryna'],\n",
    "    'Вік': [21, 22, 20, 21, 23],\n",
    "    'Спеціальність': ['Math', 'Physics', 'Biology', 'Math', 'Physics']\n",
    "    }, index=['st1', 'st2', 'st3', 'st4', 'st5'])\n",
    "\n",
    "subset = students_df.loc[['st1', 'st3'], ['Імена', 'Спеціальність']]\n",
    "print(subset)"
   ]
  },
  {
   "cell_type": "code",
   "execution_count": null,
   "id": "8f050142-1cea-4f5c-88c8-86235f417ecf",
   "metadata": {},
   "outputs": [],
   "source": [
    "print(students_df)\n",
    "print()\n",
    "print(students_df.sem(axis='columns'))\n",
    "print()\n",
    "print(students_df.sem(numeric_only=True))"
   ]
  },
  {
   "cell_type": "code",
   "execution_count": null,
   "id": "c446a8a3-8224-4dc5-bb07-e81f9c6bb952",
   "metadata": {},
   "outputs": [],
   "source": [
    "multiindex= pd.MultiIndex.from_arrays([['Math', 'Physics', 'Biology', 'Math', 'Physics'],\n",
    "                                       ['M19', 'P18', 'B20', 'M19', 'P17'],\n",
    "                                       ['Anna', 'Bohdan', 'Olena', 'Ivan', 'Kateryna']],\n",
    "                                      names=['Спеціальність', 'Група', 'Імена'])\n",
    "\n",
    "print(multiindex)"
   ]
  },
  {
   "cell_type": "code",
   "execution_count": null,
   "id": "b5675fed-8d91-4da3-967d-3d7c1e49a601",
   "metadata": {},
   "outputs": [],
   "source": [
    "display(students_df)"
   ]
  },
  {
   "cell_type": "code",
   "execution_count": null,
   "id": "0f211e0b-9df9-4b58-9deb-68e7ec9e3523",
   "metadata": {},
   "outputs": [],
   "source": []
  }
 ],
 "metadata": {
  "kernelspec": {
   "display_name": "Python 3 (ipykernel)",
   "language": "python",
   "name": "python3"
  },
  "language_info": {
   "codemirror_mode": {
    "name": "ipython",
    "version": 3
   },
   "file_extension": ".py",
   "mimetype": "text/x-python",
   "name": "python",
   "nbconvert_exporter": "python",
   "pygments_lexer": "ipython3",
   "version": "3.11.7"
  }
 },
 "nbformat": 4,
 "nbformat_minor": 5
}
