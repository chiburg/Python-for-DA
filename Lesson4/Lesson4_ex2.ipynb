{
 "cells": [
  {
   "cell_type": "raw",
   "id": "67e985c7-bdb2-4926-b805-d4b59c66b1e1",
   "metadata": {},
   "source": [
    "DataFrame.loc[rows, columns]\n",
    "DataFrame.iloc[rows, columns]"
   ]
  },
  {
   "cell_type": "code",
   "execution_count": 67,
   "id": "74b7a77b-ded7-48d7-96b1-d7cf2472cd8d",
   "metadata": {},
   "outputs": [],
   "source": [
    "import pandas as pd\n",
    "\n",
    "students_df = pd.DataFrame({\n",
    "    'Імена': ['Anna', 'Bohdan', 'Olena', 'Ivan', 'Kateryna'],\n",
    "    'Вік': [21, 22, 20, 21, 23],\n",
    "    'Спеціальність': ['Math', 'Physics', 'Biology', 'Math', 'Physics']\n",
    "    }, index=['st1', 'st2', 'st3', 'st4', 'st5'])"
   ]
  },
  {
   "cell_type": "code",
   "execution_count": 9,
   "id": "81b7f6e2-aa70-47da-8bb7-acdde4412b49",
   "metadata": {},
   "outputs": [
    {
     "data": {
      "text/html": [
       "<div>\n",
       "<style scoped>\n",
       "    .dataframe tbody tr th:only-of-type {\n",
       "        vertical-align: middle;\n",
       "    }\n",
       "\n",
       "    .dataframe tbody tr th {\n",
       "        vertical-align: top;\n",
       "    }\n",
       "\n",
       "    .dataframe thead th {\n",
       "        text-align: right;\n",
       "    }\n",
       "</style>\n",
       "<table border=\"1\" class=\"dataframe\">\n",
       "  <thead>\n",
       "    <tr style=\"text-align: right;\">\n",
       "      <th></th>\n",
       "      <th>Імена</th>\n",
       "      <th>Вік</th>\n",
       "      <th>Спеціальність</th>\n",
       "    </tr>\n",
       "  </thead>\n",
       "  <tbody>\n",
       "    <tr>\n",
       "      <th>st1</th>\n",
       "      <td>Anna</td>\n",
       "      <td>21</td>\n",
       "      <td>Math</td>\n",
       "    </tr>\n",
       "    <tr>\n",
       "      <th>st2</th>\n",
       "      <td>Bohdan</td>\n",
       "      <td>22</td>\n",
       "      <td>Physics</td>\n",
       "    </tr>\n",
       "    <tr>\n",
       "      <th>st3</th>\n",
       "      <td>Olena</td>\n",
       "      <td>20</td>\n",
       "      <td>Biology</td>\n",
       "    </tr>\n",
       "    <tr>\n",
       "      <th>st4</th>\n",
       "      <td>Ivan</td>\n",
       "      <td>21</td>\n",
       "      <td>Math</td>\n",
       "    </tr>\n",
       "    <tr>\n",
       "      <th>st5</th>\n",
       "      <td>Kateryna</td>\n",
       "      <td>23</td>\n",
       "      <td>Physics</td>\n",
       "    </tr>\n",
       "  </tbody>\n",
       "</table>\n",
       "</div>"
      ],
      "text/plain": [
       "        Імена  Вік Спеціальність\n",
       "st1      Anna   21          Math\n",
       "st2    Bohdan   22       Physics\n",
       "st3     Olena   20       Biology\n",
       "st4      Ivan   21          Math\n",
       "st5  Kateryna   23       Physics"
      ]
     },
     "metadata": {},
     "output_type": "display_data"
    },
    {
     "name": "stdout",
     "output_type": "stream",
     "text": [
      "        Імена  Вік Спеціальність\n",
      "st1      Anna   21          Math\n",
      "st2    Bohdan   22       Physics\n",
      "st3     Olena   20       Biology\n",
      "st4      Ivan   21          Math\n",
      "st5  Kateryna   23       Physics\n"
     ]
    }
   ],
   "source": [
    "display(students_df)\n",
    "print(students_df)"
   ]
  },
  {
   "cell_type": "code",
   "execution_count": 15,
   "id": "0d7bc8a9-a8b0-4001-88ba-604c5bba8f6d",
   "metadata": {},
   "outputs": [
    {
     "data": {
      "text/html": [
       "<div>\n",
       "<style scoped>\n",
       "    .dataframe tbody tr th:only-of-type {\n",
       "        vertical-align: middle;\n",
       "    }\n",
       "\n",
       "    .dataframe tbody tr th {\n",
       "        vertical-align: top;\n",
       "    }\n",
       "\n",
       "    .dataframe thead th {\n",
       "        text-align: right;\n",
       "    }\n",
       "</style>\n",
       "<table border=\"1\" class=\"dataframe\">\n",
       "  <thead>\n",
       "    <tr style=\"text-align: right;\">\n",
       "      <th></th>\n",
       "      <th>Імена</th>\n",
       "      <th>Вік</th>\n",
       "      <th>Спеціальність</th>\n",
       "    </tr>\n",
       "  </thead>\n",
       "  <tbody>\n",
       "    <tr>\n",
       "      <th>st2</th>\n",
       "      <td>Bohdan</td>\n",
       "      <td>22</td>\n",
       "      <td>Physics</td>\n",
       "    </tr>\n",
       "    <tr>\n",
       "      <th>st3</th>\n",
       "      <td>Olena</td>\n",
       "      <td>20</td>\n",
       "      <td>Biology</td>\n",
       "    </tr>\n",
       "    <tr>\n",
       "      <th>st4</th>\n",
       "      <td>Ivan</td>\n",
       "      <td>21</td>\n",
       "      <td>Math</td>\n",
       "    </tr>\n",
       "  </tbody>\n",
       "</table>\n",
       "</div>"
      ],
      "text/plain": [
       "      Імена  Вік Спеціальність\n",
       "st2  Bohdan   22       Physics\n",
       "st3   Olena   20       Biology\n",
       "st4    Ivan   21          Math"
      ]
     },
     "execution_count": 15,
     "metadata": {},
     "output_type": "execute_result"
    }
   ],
   "source": [
    "students_df.loc['st2':'st4', :]"
   ]
  },
  {
   "cell_type": "code",
   "execution_count": 51,
   "id": "0e66a449-83e8-4c97-a022-e93a43bb21fe",
   "metadata": {},
   "outputs": [
    {
     "name": "stdout",
     "output_type": "stream",
     "text": [
      "2    20.0\n",
      "5     NaN\n",
      "4    23.0\n",
      "Name: Вік, dtype: float64\n"
     ]
    }
   ],
   "source": [
    "students_df = pd.DataFrame({\n",
    "    'Імена': ['Anna', 'Bohdan', 'Olena', 'Ivan', 'Kateryna'],\n",
    "    'Вік': [21, 22, 20, None, 23],\n",
    "    'Спеціальність': ['Math', 'Physics', 'Biology', 'Math', 'Physics']\n",
    "    }, index=[3, 1, 2, 5, 4])\n",
    "\n",
    "subset = students_df.loc[2:4, 'Вік']\n",
    "print(subset)"
   ]
  },
  {
   "cell_type": "code",
   "execution_count": 21,
   "id": "a9080673-6b05-435a-9105-d18282b0dc80",
   "metadata": {},
   "outputs": [
    {
     "name": "stdout",
     "output_type": "stream",
     "text": [
      "     Імена Спеціальність\n",
      "st1   Anna          Math\n",
      "st3  Olena       Biology\n"
     ]
    }
   ],
   "source": [
    "subset = students_df.loc[['st1', 'st3'], ['Імена', 'Спеціальність']] \n",
    "print(subset)"
   ]
  },
  {
   "cell_type": "code",
   "execution_count": 23,
   "id": "4fc83fcc-f710-4716-99d7-f8befd6c268e",
   "metadata": {},
   "outputs": [
    {
     "name": "stdout",
     "output_type": "stream",
     "text": [
      "Anna\n"
     ]
    }
   ],
   "source": [
    "subset = students_df.iloc[0, 0]\n",
    "print(subset)"
   ]
  },
  {
   "cell_type": "code",
   "execution_count": 24,
   "id": "81880a18-7890-4eef-be45-478feb27bac6",
   "metadata": {},
   "outputs": [
    {
     "name": "stdout",
     "output_type": "stream",
     "text": [
      "      Імена  Вік\n",
      "st2  Bohdan   22\n",
      "st3   Olena   20\n",
      "st4    Ivan   21\n"
     ]
    }
   ],
   "source": [
    "subset = students_df.iloc[1:4, 0:2]\n",
    "print(subset)"
   ]
  },
  {
   "cell_type": "code",
   "execution_count": 27,
   "id": "90b48446-4eeb-4fb6-b5bf-d770a4ae6f26",
   "metadata": {},
   "outputs": [
    {
     "name": "stdout",
     "output_type": "stream",
     "text": [
      "     Імена Спеціальність\n",
      "st1   Anna          Math\n",
      "st3  Olena       Biology\n"
     ]
    }
   ],
   "source": [
    "subset = students_df.iloc[[0, 2], [0, 2]]\n",
    "print(subset)"
   ]
  },
  {
   "cell_type": "code",
   "execution_count": 32,
   "id": "1a6411bb-0821-46c4-8ac9-f28cbb4a9ca3",
   "metadata": {},
   "outputs": [
    {
     "name": "stdout",
     "output_type": "stream",
     "text": [
      "        Імена  Вік Спеціальність\n",
      "st2    Bohdan   22       Physics\n",
      "st5  Kateryna   23       Physics\n"
     ]
    }
   ],
   "source": [
    "subset = students_df.loc[students_df['Спеціальність'] == 'Physics']\n",
    "print(subset)"
   ]
  },
  {
   "cell_type": "code",
   "execution_count": 37,
   "id": "24cfa4e2-8c8d-45e2-8c8a-2881858d77f6",
   "metadata": {},
   "outputs": [
    {
     "name": "stdout",
     "output_type": "stream",
     "text": [
      "0\n",
      "1\n"
     ]
    }
   ],
   "source": [
    "print(0 & 1)\n",
    "print(1 and 1 | 0 or (1 and not 0))"
   ]
  },
  {
   "cell_type": "code",
   "execution_count": null,
   "id": "3f13a49c-66da-452f-894a-51a9962b8a45",
   "metadata": {},
   "outputs": [],
   "source": [
    "dataframe[(<перша умова \"і\">)&(<друга умова \"і\">)|(<умова \"або\">)]"
   ]
  },
  {
   "cell_type": "code",
   "execution_count": 38,
   "id": "45343697-9d3a-4415-9459-f1a1d57b3e66",
   "metadata": {},
   "outputs": [
    {
     "name": "stdout",
     "output_type": "stream",
     "text": [
      "    Імена  Вік Спеціальність\n",
      "st1  Anna   21          Math\n",
      "st4  Ivan   21          Math\n"
     ]
    }
   ],
   "source": [
    "subset = students_df[(students_df['Спеціальність'] == 'Math')&(students_df['Вік'] > 20)]\n",
    "print(subset)"
   ]
  },
  {
   "cell_type": "code",
   "execution_count": 42,
   "id": "d54f5c29-63b0-4520-89b6-cb8f6be35f72",
   "metadata": {},
   "outputs": [
    {
     "data": {
      "text/plain": [
       "st1     True\n",
       "st2    False\n",
       "st3    False\n",
       "st4     True\n",
       "st5    False\n",
       "Name: Спеціальність, dtype: bool"
      ]
     },
     "execution_count": 42,
     "metadata": {},
     "output_type": "execute_result"
    }
   ],
   "source": [
    "students_df['Спеціальність'] == 'Math'"
   ]
  },
  {
   "cell_type": "code",
   "execution_count": 43,
   "id": "dbd33558-37e2-42e9-96ff-25bde276f0a0",
   "metadata": {},
   "outputs": [
    {
     "name": "stdout",
     "output_type": "stream",
     "text": [
      "        Імена  Вік Спеціальність\n",
      "st1      Anna   21          Math\n",
      "st2    Bohdan   22       Physics\n",
      "st4      Ivan   21          Math\n",
      "st5  Kateryna   23       Physics\n"
     ]
    }
   ],
   "source": [
    "subset = students_df[(students_df['Спеціальність'] == 'Math')|(students_df['Спеціальність'] == 'Physics')]\n",
    "print(subset)"
   ]
  },
  {
   "cell_type": "code",
   "execution_count": 48,
   "id": "58b4b4a1-78ec-41d9-8545-ce4e77106c54",
   "metadata": {},
   "outputs": [
    {
     "data": {
      "text/html": [
       "<div>\n",
       "<style scoped>\n",
       "    .dataframe tbody tr th:only-of-type {\n",
       "        vertical-align: middle;\n",
       "    }\n",
       "\n",
       "    .dataframe tbody tr th {\n",
       "        vertical-align: top;\n",
       "    }\n",
       "\n",
       "    .dataframe thead th {\n",
       "        text-align: right;\n",
       "    }\n",
       "</style>\n",
       "<table border=\"1\" class=\"dataframe\">\n",
       "  <thead>\n",
       "    <tr style=\"text-align: right;\">\n",
       "      <th></th>\n",
       "      <th>Імена</th>\n",
       "      <th>Вік</th>\n",
       "      <th>Спеціальність</th>\n",
       "    </tr>\n",
       "  </thead>\n",
       "  <tbody>\n",
       "    <tr>\n",
       "      <th>st1</th>\n",
       "      <td>Anna</td>\n",
       "      <td>21</td>\n",
       "      <td>Math</td>\n",
       "    </tr>\n",
       "    <tr>\n",
       "      <th>st2</th>\n",
       "      <td>Bohdan</td>\n",
       "      <td>22</td>\n",
       "      <td>Physics</td>\n",
       "    </tr>\n",
       "    <tr>\n",
       "      <th>st4</th>\n",
       "      <td>Ivan</td>\n",
       "      <td>21</td>\n",
       "      <td>Math</td>\n",
       "    </tr>\n",
       "    <tr>\n",
       "      <th>st5</th>\n",
       "      <td>Kateryna</td>\n",
       "      <td>23</td>\n",
       "      <td>Physics</td>\n",
       "    </tr>\n",
       "  </tbody>\n",
       "</table>\n",
       "</div>"
      ],
      "text/plain": [
       "        Імена  Вік Спеціальність\n",
       "st1      Anna   21          Math\n",
       "st2    Bohdan   22       Physics\n",
       "st4      Ivan   21          Math\n",
       "st5  Kateryna   23       Physics"
      ]
     },
     "execution_count": 48,
     "metadata": {},
     "output_type": "execute_result"
    }
   ],
   "source": [
    "students_df[students_df['Спеціальність'].isin(['Math', 'Physics'])]"
   ]
  },
  {
   "cell_type": "code",
   "execution_count": 49,
   "id": "8bd564ab-a24a-460f-ba35-031379b92815",
   "metadata": {},
   "outputs": [
    {
     "data": {
      "text/html": [
       "<div>\n",
       "<style scoped>\n",
       "    .dataframe tbody tr th:only-of-type {\n",
       "        vertical-align: middle;\n",
       "    }\n",
       "\n",
       "    .dataframe tbody tr th {\n",
       "        vertical-align: top;\n",
       "    }\n",
       "\n",
       "    .dataframe thead th {\n",
       "        text-align: right;\n",
       "    }\n",
       "</style>\n",
       "<table border=\"1\" class=\"dataframe\">\n",
       "  <thead>\n",
       "    <tr style=\"text-align: right;\">\n",
       "      <th></th>\n",
       "      <th>Імена</th>\n",
       "      <th>Вік</th>\n",
       "      <th>Спеціальність</th>\n",
       "    </tr>\n",
       "  </thead>\n",
       "  <tbody>\n",
       "    <tr>\n",
       "      <th>st3</th>\n",
       "      <td>Olena</td>\n",
       "      <td>20</td>\n",
       "      <td>Biology</td>\n",
       "    </tr>\n",
       "  </tbody>\n",
       "</table>\n",
       "</div>"
      ],
      "text/plain": [
       "     Імена  Вік Спеціальність\n",
       "st3  Olena   20       Biology"
      ]
     },
     "execution_count": 49,
     "metadata": {},
     "output_type": "execute_result"
    }
   ],
   "source": [
    "students_df[~students_df['Спеціальність'].isin(['Math', 'Physics'])]"
   ]
  },
  {
   "cell_type": "code",
   "execution_count": 52,
   "id": "55f13c9e-cad5-4c2a-a929-76855e773a26",
   "metadata": {},
   "outputs": [
    {
     "data": {
      "text/html": [
       "<div>\n",
       "<style scoped>\n",
       "    .dataframe tbody tr th:only-of-type {\n",
       "        vertical-align: middle;\n",
       "    }\n",
       "\n",
       "    .dataframe tbody tr th {\n",
       "        vertical-align: top;\n",
       "    }\n",
       "\n",
       "    .dataframe thead th {\n",
       "        text-align: right;\n",
       "    }\n",
       "</style>\n",
       "<table border=\"1\" class=\"dataframe\">\n",
       "  <thead>\n",
       "    <tr style=\"text-align: right;\">\n",
       "      <th></th>\n",
       "      <th>Імена</th>\n",
       "      <th>Вік</th>\n",
       "      <th>Спеціальність</th>\n",
       "    </tr>\n",
       "  </thead>\n",
       "  <tbody>\n",
       "    <tr>\n",
       "      <th>5</th>\n",
       "      <td>Ivan</td>\n",
       "      <td>NaN</td>\n",
       "      <td>Math</td>\n",
       "    </tr>\n",
       "  </tbody>\n",
       "</table>\n",
       "</div>"
      ],
      "text/plain": [
       "  Імена  Вік Спеціальність\n",
       "5  Ivan  NaN          Math"
      ]
     },
     "execution_count": 52,
     "metadata": {},
     "output_type": "execute_result"
    }
   ],
   "source": [
    "students_df[students_df['Вік'].isna()]"
   ]
  },
  {
   "cell_type": "code",
   "execution_count": 68,
   "id": "2735f9e0-9fa3-47ba-b847-854efeee09eb",
   "metadata": {},
   "outputs": [
    {
     "name": "stdout",
     "output_type": "stream",
     "text": [
      "        Імена  Вік Спеціальність\n",
      "st1      Anna   21          Math\n",
      "st2    Bohdan   22       Physics\n",
      "st3     Olena   20       Biology\n",
      "st4      Ivan   21          Math\n",
      "st5  Kateryna   23       Physics\n"
     ]
    }
   ],
   "source": [
    "s = students_df[students_df['Вік'].notna()]\n",
    "print(s)"
   ]
  },
  {
   "cell_type": "code",
   "execution_count": 69,
   "id": "3bf57c9b-3a35-42f3-b1e8-fd3bc14bffb3",
   "metadata": {},
   "outputs": [
    {
     "name": "stdout",
     "output_type": "stream",
     "text": [
      "MultiIndex([(   'Math', 'M19',     'Anna'),\n",
      "            ('Physics', 'P18',   'Bohdan'),\n",
      "            ('Biology', 'B20',    'Olena'),\n",
      "            (   'Math', 'M19',     'Ivan'),\n",
      "            ('Physics', 'P17', 'Kateryna')],\n",
      "           names=['Спеціальність', 'Група', 'Імена'])\n"
     ]
    }
   ],
   "source": [
    "multiindex= pd.MultiIndex.from_arrays([['Math', 'Physics', 'Biology', 'Math', 'Physics'],\n",
    "                                       ['M19', 'P18', 'B20', 'M19', 'P17'],\n",
    "                                       ['Anna', 'Bohdan', 'Olena', 'Ivan', 'Kateryna']],\n",
    "                                      names=['Спеціальність', 'Група', 'Імена'])\n",
    "\n",
    "print(multiindex)"
   ]
  },
  {
   "cell_type": "code",
   "execution_count": 70,
   "id": "b53c6a8d-291b-4e52-9fe5-f2eab88a8a72",
   "metadata": {},
   "outputs": [
    {
     "name": "stdout",
     "output_type": "stream",
     "text": [
      "MultiIndex([(   'Math', 'M19',     'Anna'),\n",
      "            ('Physics', 'P18',   'Bohdan'),\n",
      "            ('Biology', 'B20',    'Olena'),\n",
      "            (   'Math', 'M19',     'Ivan'),\n",
      "            ('Physics', 'P17', 'Kateryna')],\n",
      "           names=['Спеціальність', 'Група', 'Імена'])\n"
     ]
    }
   ],
   "source": [
    "multiindex= pd.MultiIndex.from_tuples([('Math',    'M19', 'Anna'),\n",
    "                                       ('Physics', 'P18', 'Bohdan'),\n",
    "                                       ('Biology', 'B20', 'Olena'),\n",
    "                                       ('Math',    'M19', 'Ivan'),\n",
    "                                       ('Physics', 'P17', 'Kateryna')],\n",
    "                                      names=['Спеціальність', 'Група', 'Імена'])\n",
    "\n",
    "print(multiindex)"
   ]
  },
  {
   "cell_type": "code",
   "execution_count": 74,
   "id": "c47f9484-eb18-468c-b76b-faa341730056",
   "metadata": {},
   "outputs": [
    {
     "name": "stdout",
     "output_type": "stream",
     "text": [
      "MultiIndex([(   'Math', 'M19',     'Anna'),\n",
      "            ('Physics', 'P18',   'Bohdan'),\n",
      "            ('Biology', 'B20',    'Olena'),\n",
      "            (   'Math', 'M19',     'Ivan'),\n",
      "            ('Physics', 'P17', 'Kateryna')],\n",
      "           names=['Спеціальність', 'Група', 'Імена'])\n"
     ]
    }
   ],
   "source": [
    "multiindex_frame = pd.DataFrame({'Спеціальність': ['Math', 'Physics', 'Biology', 'Math', 'Physics'],\n",
    "                                 'Група': ['M19', 'P18', 'B20', 'M19', 'P17'],\n",
    "                                 'Імена': ['Anna', 'Bohdan', 'Olena', 'Ivan', 'Kateryna']})\n",
    "multiindex= pd.MultiIndex.from_frame(multiindex_frame)\n",
    "print(multiindex)"
   ]
  },
  {
   "cell_type": "code",
   "execution_count": 76,
   "id": "975897a3-7070-45a5-a2f1-f98ae4814be7",
   "metadata": {},
   "outputs": [
    {
     "name": "stdout",
     "output_type": "stream",
     "text": [
      "                              Вік  Середній бал\n",
      "Спеціальність Група Імена                      \n",
      "Math          M19   Anna       21            21\n",
      "Physics       P18   Bohdan     22            22\n",
      "Biology       B20   Olena      20            20\n",
      "Math          M19   Ivan       21            21\n",
      "Physics       P17   Kateryna   23            23\n"
     ]
    }
   ],
   "source": [
    "students_df = pd.DataFrame({'Вік': [21, 22, 20, 21, 23],\n",
    "                            'Середній бал': [21, 22, 20, 21, 23]},\n",
    "                          index=multiindex)\n",
    "print(students_df)"
   ]
  },
  {
   "cell_type": "code",
   "execution_count": 77,
   "id": "9025a6db-fab4-481a-a0ce-09910cc7095e",
   "metadata": {},
   "outputs": [
    {
     "data": {
      "text/html": [
       "<div>\n",
       "<style scoped>\n",
       "    .dataframe tbody tr th:only-of-type {\n",
       "        vertical-align: middle;\n",
       "    }\n",
       "\n",
       "    .dataframe tbody tr th {\n",
       "        vertical-align: top;\n",
       "    }\n",
       "\n",
       "    .dataframe thead th {\n",
       "        text-align: right;\n",
       "    }\n",
       "</style>\n",
       "<table border=\"1\" class=\"dataframe\">\n",
       "  <thead>\n",
       "    <tr style=\"text-align: right;\">\n",
       "      <th></th>\n",
       "      <th></th>\n",
       "      <th></th>\n",
       "      <th>Вік</th>\n",
       "      <th>Середній бал</th>\n",
       "    </tr>\n",
       "    <tr>\n",
       "      <th>Спеціальність</th>\n",
       "      <th>Група</th>\n",
       "      <th>Імена</th>\n",
       "      <th></th>\n",
       "      <th></th>\n",
       "    </tr>\n",
       "  </thead>\n",
       "  <tbody>\n",
       "    <tr>\n",
       "      <th>Math</th>\n",
       "      <th>M19</th>\n",
       "      <th>Anna</th>\n",
       "      <td>21</td>\n",
       "      <td>21</td>\n",
       "    </tr>\n",
       "    <tr>\n",
       "      <th>Physics</th>\n",
       "      <th>P18</th>\n",
       "      <th>Bohdan</th>\n",
       "      <td>22</td>\n",
       "      <td>22</td>\n",
       "    </tr>\n",
       "    <tr>\n",
       "      <th>Biology</th>\n",
       "      <th>B20</th>\n",
       "      <th>Olena</th>\n",
       "      <td>20</td>\n",
       "      <td>20</td>\n",
       "    </tr>\n",
       "    <tr>\n",
       "      <th>Math</th>\n",
       "      <th>M19</th>\n",
       "      <th>Ivan</th>\n",
       "      <td>21</td>\n",
       "      <td>21</td>\n",
       "    </tr>\n",
       "    <tr>\n",
       "      <th>Physics</th>\n",
       "      <th>P17</th>\n",
       "      <th>Kateryna</th>\n",
       "      <td>23</td>\n",
       "      <td>23</td>\n",
       "    </tr>\n",
       "  </tbody>\n",
       "</table>\n",
       "</div>"
      ],
      "text/plain": [
       "                              Вік  Середній бал\n",
       "Спеціальність Група Імена                      \n",
       "Math          M19   Anna       21            21\n",
       "Physics       P18   Bohdan     22            22\n",
       "Biology       B20   Olena      20            20\n",
       "Math          M19   Ivan       21            21\n",
       "Physics       P17   Kateryna   23            23"
      ]
     },
     "execution_count": 77,
     "metadata": {},
     "output_type": "execute_result"
    }
   ],
   "source": [
    "students_df"
   ]
  },
  {
   "cell_type": "code",
   "execution_count": 78,
   "id": "e120e552-66f0-4f6b-997e-13427a85b85d",
   "metadata": {},
   "outputs": [
    {
     "data": {
      "text/html": [
       "<div>\n",
       "<style scoped>\n",
       "    .dataframe tbody tr th:only-of-type {\n",
       "        vertical-align: middle;\n",
       "    }\n",
       "\n",
       "    .dataframe tbody tr th {\n",
       "        vertical-align: top;\n",
       "    }\n",
       "\n",
       "    .dataframe thead th {\n",
       "        text-align: right;\n",
       "    }\n",
       "</style>\n",
       "<table border=\"1\" class=\"dataframe\">\n",
       "  <thead>\n",
       "    <tr style=\"text-align: right;\">\n",
       "      <th></th>\n",
       "      <th></th>\n",
       "      <th>Вік</th>\n",
       "      <th>Середній бал</th>\n",
       "    </tr>\n",
       "    <tr>\n",
       "      <th>Група</th>\n",
       "      <th>Імена</th>\n",
       "      <th></th>\n",
       "      <th></th>\n",
       "    </tr>\n",
       "  </thead>\n",
       "  <tbody>\n",
       "    <tr>\n",
       "      <th>P18</th>\n",
       "      <th>Bohdan</th>\n",
       "      <td>22</td>\n",
       "      <td>22</td>\n",
       "    </tr>\n",
       "    <tr>\n",
       "      <th>P17</th>\n",
       "      <th>Kateryna</th>\n",
       "      <td>23</td>\n",
       "      <td>23</td>\n",
       "    </tr>\n",
       "  </tbody>\n",
       "</table>\n",
       "</div>"
      ],
      "text/plain": [
       "                Вік  Середній бал\n",
       "Група Імена                      \n",
       "P18   Bohdan     22            22\n",
       "P17   Kateryna   23            23"
      ]
     },
     "execution_count": 78,
     "metadata": {},
     "output_type": "execute_result"
    }
   ],
   "source": [
    "students_df.loc['Physics']"
   ]
  },
  {
   "cell_type": "code",
   "execution_count": 79,
   "id": "7fbc8ab6-0210-4312-b4b9-af0284fb5700",
   "metadata": {},
   "outputs": [
    {
     "name": "stderr",
     "output_type": "stream",
     "text": [
      "C:\\Users\\Adm\\AppData\\Local\\Temp\\ipykernel_16664\\2899922484.py:1: PerformanceWarning: indexing past lexsort depth may impact performance.\n",
      "  students_df.loc['Physics', 'P17']\n"
     ]
    },
    {
     "data": {
      "text/html": [
       "<div>\n",
       "<style scoped>\n",
       "    .dataframe tbody tr th:only-of-type {\n",
       "        vertical-align: middle;\n",
       "    }\n",
       "\n",
       "    .dataframe tbody tr th {\n",
       "        vertical-align: top;\n",
       "    }\n",
       "\n",
       "    .dataframe thead th {\n",
       "        text-align: right;\n",
       "    }\n",
       "</style>\n",
       "<table border=\"1\" class=\"dataframe\">\n",
       "  <thead>\n",
       "    <tr style=\"text-align: right;\">\n",
       "      <th></th>\n",
       "      <th>Вік</th>\n",
       "      <th>Середній бал</th>\n",
       "    </tr>\n",
       "    <tr>\n",
       "      <th>Імена</th>\n",
       "      <th></th>\n",
       "      <th></th>\n",
       "    </tr>\n",
       "  </thead>\n",
       "  <tbody>\n",
       "    <tr>\n",
       "      <th>Kateryna</th>\n",
       "      <td>23</td>\n",
       "      <td>23</td>\n",
       "    </tr>\n",
       "  </tbody>\n",
       "</table>\n",
       "</div>"
      ],
      "text/plain": [
       "          Вік  Середній бал\n",
       "Імена                      \n",
       "Kateryna   23            23"
      ]
     },
     "execution_count": 79,
     "metadata": {},
     "output_type": "execute_result"
    }
   ],
   "source": [
    "students_df.loc['Physics', 'P17']"
   ]
  }
 ],
 "metadata": {
  "kernelspec": {
   "display_name": "Python 3 (ipykernel)",
   "language": "python",
   "name": "python3"
  },
  "language_info": {
   "codemirror_mode": {
    "name": "ipython",
    "version": 3
   },
   "file_extension": ".py",
   "mimetype": "text/x-python",
   "name": "python",
   "nbconvert_exporter": "python",
   "pygments_lexer": "ipython3",
   "version": "3.11.7"
  }
 },
 "nbformat": 4,
 "nbformat_minor": 5
}
