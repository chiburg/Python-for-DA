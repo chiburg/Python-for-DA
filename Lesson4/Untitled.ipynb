{
 "cells": [
  {
   "cell_type": "code",
   "execution_count": 1,
   "id": "0652b450-eb9e-44c4-a6b2-76af2d3144fb",
   "metadata": {},
   "outputs": [
    {
     "name": "stdout",
     "output_type": "stream",
     "text": [
      "               Модель  Рік випуску   Ціна\n",
      "0            iPhone X         2017  12000\n",
      "1           iPhone 12         2020  16000\n",
      "2           iPhone 14         2022  29000\n",
      "3  Samsung Galaxy S23         2023  40000\n",
      "4  Samsung Galaxy S22         2022  26000\n"
     ]
    }
   ],
   "source": [
    "import pandas as pd\n",
    "import numpy as np\n",
    "phones = pd.DataFrame({\n",
    "    'Модель': ['iPhone X', 'iPhone 12', 'iPhone 14', 'Samsung Galaxy S23', 'Samsung Galaxy S22'],\n",
    "    'Рік випуску': [2017, 2020, 2022, 2023, 2022],\n",
    "    'Ціна': [12000, 16000, 29000, 40000, 26000]\n",
    "})\n",
    "\n",
    "print(phones)"
   ]
  },
  {
   "cell_type": "code",
   "execution_count": 3,
   "id": "086d05e8-d75c-4218-a2a8-a067c6e64ef3",
   "metadata": {},
   "outputs": [
    {
     "data": {
      "text/html": [
       "<div>\n",
       "<style scoped>\n",
       "    .dataframe tbody tr th:only-of-type {\n",
       "        vertical-align: middle;\n",
       "    }\n",
       "\n",
       "    .dataframe tbody tr th {\n",
       "        vertical-align: top;\n",
       "    }\n",
       "\n",
       "    .dataframe thead th {\n",
       "        text-align: right;\n",
       "    }\n",
       "</style>\n",
       "<table border=\"1\" class=\"dataframe\">\n",
       "  <thead>\n",
       "    <tr style=\"text-align: right;\">\n",
       "      <th></th>\n",
       "      <th>Модель</th>\n",
       "      <th>Рік випуску</th>\n",
       "      <th>Ціна</th>\n",
       "    </tr>\n",
       "  </thead>\n",
       "  <tbody>\n",
       "    <tr>\n",
       "      <th>0</th>\n",
       "      <td>iPhone X</td>\n",
       "      <td>2017</td>\n",
       "      <td>12000.0</td>\n",
       "    </tr>\n",
       "    <tr>\n",
       "      <th>1</th>\n",
       "      <td>iPhone 12</td>\n",
       "      <td>2020</td>\n",
       "      <td>8000.0</td>\n",
       "    </tr>\n",
       "    <tr>\n",
       "      <th>2</th>\n",
       "      <td>iPhone 14</td>\n",
       "      <td>2022</td>\n",
       "      <td>29000.0</td>\n",
       "    </tr>\n",
       "    <tr>\n",
       "      <th>3</th>\n",
       "      <td>Samsung Galaxy S23</td>\n",
       "      <td>2023</td>\n",
       "      <td>40000.0</td>\n",
       "    </tr>\n",
       "    <tr>\n",
       "      <th>4</th>\n",
       "      <td>Samsung Galaxy S22</td>\n",
       "      <td>2022</td>\n",
       "      <td>26000.0</td>\n",
       "    </tr>\n",
       "  </tbody>\n",
       "</table>\n",
       "</div>"
      ],
      "text/plain": [
       "               Модель  Рік випуску     Ціна\n",
       "0            iPhone X         2017  12000.0\n",
       "1           iPhone 12         2020   8000.0\n",
       "2           iPhone 14         2022  29000.0\n",
       "3  Samsung Galaxy S23         2023  40000.0\n",
       "4  Samsung Galaxy S22         2022  26000.0"
      ]
     },
     "execution_count": 3,
     "metadata": {},
     "output_type": "execute_result"
    }
   ],
   "source": [
    "phones['Ціна'] = np.where(phones['Модель'] == 'iPhone 12', phones['Ціна'] / 2, phones['Ціна'])\n",
    "phones"
   ]
  }
 ],
 "metadata": {
  "kernelspec": {
   "display_name": "Python 3 (ipykernel)",
   "language": "python",
   "name": "python3"
  },
  "language_info": {
   "codemirror_mode": {
    "name": "ipython",
    "version": 3
   },
   "file_extension": ".py",
   "mimetype": "text/x-python",
   "name": "python",
   "nbconvert_exporter": "python",
   "pygments_lexer": "ipython3",
   "version": "3.11.7"
  }
 },
 "nbformat": 4,
 "nbformat_minor": 5
}
