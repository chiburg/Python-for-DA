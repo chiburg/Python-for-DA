{
 "cells": [
  {
   "cell_type": "code",
   "execution_count": null,
   "id": "7fc8856a-be74-477a-9742-3dfbb45f5f58",
   "metadata": {},
   "outputs": [],
   "source": [
    "# створення датафрейму\n",
    "# робота з індексами\n",
    "# методи head, tail\n",
    "# \"ланцюжок\" методів"
   ]
  },
  {
   "cell_type": "code",
   "execution_count": 33,
   "id": "3c08b7c8-8ca7-42d4-9434-8f3002a62197",
   "metadata": {},
   "outputs": [
    {
     "name": "stdout",
     "output_type": "stream",
     "text": [
      "            name                          email           phone  favorite\n",
      "1  Allen Raymond      nulla.ante@vestibul.co.uk  (992) 914-3792     False\n",
      "2    Chaim Lewis            dui.in@egetlacus.ca  (294) 840-6685     False\n",
      "3   Kennedy Lane  mattis.Cras@nonenimMauris.net  (542) 451-7038      True\n",
      "4     Wylie Pope              est@utquamvel.net  (692) 802-2949     False\n",
      "5  Cyrus Jackson         nibh@semsempererat.com  (501) 472-5218      True\n"
     ]
    }
   ],
   "source": [
    "import pandas as pd\n",
    "\n",
    "contacts = pd.DataFrame(\n",
    "    {\n",
    "        \"name\": [\n",
    "            \"Allen Raymond\",\n",
    "            \"Chaim Lewis\",\n",
    "            \"Kennedy Lane\",\n",
    "            \"Wylie Pope\",\n",
    "            \"Cyrus Jackson\",\n",
    "        ],\n",
    "        \"email\": [\n",
    "            \"nulla.ante@vestibul.co.uk\",\n",
    "            \"dui.in@egetlacus.ca\",\n",
    "            \"mattis.Cras@nonenimMauris.net\",\n",
    "            \"est@utquamvel.net\",\n",
    "            \"nibh@semsempererat.com\",\n",
    "        ],\n",
    "        \"phone\": [\n",
    "            \"(992) 914-3792\",\n",
    "            \"(294) 840-6685\",\n",
    "            \"(542) 451-7038\",\n",
    "            \"(692) 802-2949\",\n",
    "            \"(501) 472-5218\",\n",
    "        ],\n",
    "        \"favorite\": [False, False, True, False, True],\n",
    "    },\n",
    "    index=[1, 2, 3, 4, 5],\n",
    ")\n",
    "\n",
    "print(contacts)"
   ]
  },
  {
   "cell_type": "code",
   "execution_count": 34,
   "id": "bd8ff024-9856-4a1e-b94e-308535f1176d",
   "metadata": {},
   "outputs": [
    {
     "name": "stdout",
     "output_type": "stream",
     "text": [
      "1    Allen Raymond\n",
      "2      Chaim Lewis\n",
      "3     Kennedy Lane\n",
      "4       Wylie Pope\n",
      "5    Cyrus Jackson\n",
      "Name: name, dtype: object\n"
     ]
    }
   ],
   "source": [
    "print(contacts[\"name\"])"
   ]
  },
  {
   "cell_type": "code",
   "execution_count": 35,
   "id": "ad4a2767-f7db-486f-be39-4c672e552b61",
   "metadata": {},
   "outputs": [
    {
     "name": "stdout",
     "output_type": "stream",
     "text": [
      "name               Wylie Pope\n",
      "email       est@utquamvel.net\n",
      "phone          (692) 802-2949\n",
      "favorite                False\n",
      "Name: 4, dtype: object\n"
     ]
    }
   ],
   "source": [
    "print(contacts.loc[4])"
   ]
  },
  {
   "cell_type": "code",
   "execution_count": 36,
   "id": "ead40771-75ab-49fb-b68b-b19a08070ea2",
   "metadata": {},
   "outputs": [
    {
     "name": "stdout",
     "output_type": "stream",
     "text": [
      "name                    Allen Raymond\n",
      "email       nulla.ante@vestibul.co.uk\n",
      "phone                  (992) 914-3792\n",
      "favorite                        False\n",
      "Name: 1, dtype: object\n"
     ]
    }
   ],
   "source": [
    "print(contacts.iloc[0])"
   ]
  },
  {
   "cell_type": "code",
   "execution_count": 37,
   "id": "6d00155e-9190-4e2e-aae8-dd712648ead1",
   "metadata": {},
   "outputs": [
    {
     "name": "stdout",
     "output_type": "stream",
     "text": [
      "            name                          email           phone  favorite\n",
      "1  Allen Raymond      nulla.ante@vestibul.co.uk  (992) 914-3792     False\n",
      "2    Chaim Lewis            dui.in@egetlacus.ca  (294) 840-6685     False\n",
      "3   Kennedy Lane  mattis.Cras@nonenimMauris.net  (542) 451-7038      True\n"
     ]
    }
   ],
   "source": [
    "print(contacts[0:3])"
   ]
  },
  {
   "cell_type": "code",
   "execution_count": 38,
   "id": "43a62e11-1c1d-4156-88d2-b462aee22f1b",
   "metadata": {},
   "outputs": [
    {
     "name": "stdout",
     "output_type": "stream",
     "text": [
      "            name                      email           phone  favorite\n",
      "1  Allen Raymond  nulla.ante@vestibul.co.uk  (992) 914-3792     False\n"
     ]
    }
   ],
   "source": [
    "print(contacts[contacts['phone'] == '(992) 914-3792'])"
   ]
  },
  {
   "cell_type": "code",
   "execution_count": 39,
   "id": "ce2117c2-8bbf-41c5-8901-b9931a0d7f8b",
   "metadata": {},
   "outputs": [
    {
     "name": "stdout",
     "output_type": "stream",
     "text": [
      "            name                      email           phone  favorite\n",
      "1  Allen Raymond  nulla.ante@vestibul.co.uk  (992) 914-3792     False\n",
      "2    Chaim Lewis        dui.in@egetlacus.ca  (294) 840-6685     False\n",
      "            name                   email           phone  favorite\n",
      "4     Wylie Pope       est@utquamvel.net  (692) 802-2949     False\n",
      "5  Cyrus Jackson  nibh@semsempererat.com  (501) 472-5218      True\n"
     ]
    }
   ],
   "source": [
    "print(contacts.head(n=2))\n",
    "print(contacts.tail(n=2))"
   ]
  },
  {
   "cell_type": "code",
   "execution_count": 40,
   "id": "1890afa0-7a4d-45d7-937f-fb95fc081570",
   "metadata": {},
   "outputs": [
    {
     "name": "stdout",
     "output_type": "stream",
     "text": [
      "       Full Name                          email           phone  favorite\n",
      "1  Allen Raymond      nulla.ante@vestibul.co.uk  (992) 914-3792     False\n",
      "2    Chaim Lewis            dui.in@egetlacus.ca  (294) 840-6685     False\n",
      "3   Kennedy Lane  mattis.Cras@nonenimMauris.net  (542) 451-7038      True\n",
      "4     Wylie Pope              est@utquamvel.net  (692) 802-2949     False\n",
      "5  Cyrus Jackson         nibh@semsempererat.com  (501) 472-5218      True\n"
     ]
    }
   ],
   "source": [
    "contacts = contacts.rename(columns={'name':'Full Name'})\n",
    "print(contacts)"
   ]
  },
  {
   "cell_type": "code",
   "execution_count": 41,
   "id": "bb337b85-7697-4499-ab0c-20e82bfde084",
   "metadata": {},
   "outputs": [
    {
     "name": "stdout",
     "output_type": "stream",
     "text": [
      "   index      Full Name                          email           phone  \\\n",
      "0      1  Allen Raymond      nulla.ante@vestibul.co.uk  (992) 914-3792   \n",
      "1      2    Chaim Lewis            dui.in@egetlacus.ca  (294) 840-6685   \n",
      "2      3   Kennedy Lane  mattis.Cras@nonenimMauris.net  (542) 451-7038   \n",
      "3      4     Wylie Pope              est@utquamvel.net  (692) 802-2949   \n",
      "4      5  Cyrus Jackson         nibh@semsempererat.com  (501) 472-5218   \n",
      "\n",
      "   favorite  \n",
      "0     False  \n",
      "1     False  \n",
      "2      True  \n",
      "3     False  \n",
      "4      True  \n"
     ]
    }
   ],
   "source": [
    "contacts.reset_index(inplace=True)\n",
    "print(contacts)"
   ]
  },
  {
   "cell_type": "code",
   "execution_count": 43,
   "id": "4cf3dc51-6aae-40e7-9844-600e827ee942",
   "metadata": {},
   "outputs": [
    {
     "name": "stdout",
     "output_type": "stream",
     "text": [
      "0      ALLEN\n",
      "1    RAYMOND\n",
      "dtype: object\n"
     ]
    }
   ],
   "source": [
    "# \"ланцюжок\" методів\n",
    "\n",
    "import numpy as np\n",
    "\n",
    "print(pd.Series(np.min(contacts['Full Name']).upper().split()))"
   ]
  },
  {
   "cell_type": "code",
   "execution_count": null,
   "id": "91fe67e7-d34d-481a-8f86-b03751c44ef1",
   "metadata": {},
   "outputs": [],
   "source": []
  }
 ],
 "metadata": {
  "kernelspec": {
   "display_name": "Python 3 (ipykernel)",
   "language": "python",
   "name": "python3"
  },
  "language_info": {
   "codemirror_mode": {
    "name": "ipython",
    "version": 3
   },
   "file_extension": ".py",
   "mimetype": "text/x-python",
   "name": "python",
   "nbconvert_exporter": "python",
   "pygments_lexer": "ipython3",
   "version": "3.11.7"
  }
 },
 "nbformat": 4,
 "nbformat_minor": 5
}
