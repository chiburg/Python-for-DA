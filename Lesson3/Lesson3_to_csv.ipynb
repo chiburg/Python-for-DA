{
 "cells": [
  {
   "cell_type": "code",
   "execution_count": 35,
   "id": "bdc35be0-3759-4974-8fef-a8e0a4193667",
   "metadata": {},
   "outputs": [
    {
     "name": "stdout",
     "output_type": "stream",
     "text": [
      "0    2061.0\n",
      "1    2035.8\n",
      "2    2028.5\n",
      "3    2022.5\n",
      "4    2016.4\n",
      "dtype: float64\n"
     ]
    }
   ],
   "source": [
    "import pandas as pd\n",
    "\n",
    "mountains_height = pd.Series([2061, 2035.8, 2028.5, 2022.5, 2016.4])\n",
    "\n",
    "print(mountains_height)"
   ]
  },
  {
   "cell_type": "code",
   "execution_count": 36,
   "id": "d4e36e25-ba04-4559-87e1-a89a53f20d64",
   "metadata": {},
   "outputs": [],
   "source": [
    "mountains_height.to_csv(\"D://Lesson3/test.csv\")\n",
    "mountains_height.to_csv(\"D://Lesson3/test2.csv\", index=False)"
   ]
  }
 ],
 "metadata": {
  "kernelspec": {
   "display_name": "Python 3 (ipykernel)",
   "language": "python",
   "name": "python3"
  },
  "language_info": {
   "codemirror_mode": {
    "name": "ipython",
    "version": 3
   },
   "file_extension": ".py",
   "mimetype": "text/x-python",
   "name": "python",
   "nbconvert_exporter": "python",
   "pygments_lexer": "ipython3",
   "version": "3.11.7"
  }
 },
 "nbformat": 4,
 "nbformat_minor": 5
}
