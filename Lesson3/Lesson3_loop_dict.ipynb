{
 "cells": [
  {
   "cell_type": "code",
   "execution_count": null,
   "id": "127c7821-eae7-4e54-843b-9a9d82ab5bc6",
   "metadata": {},
   "outputs": [],
   "source": [
    "thisdict = {\n",
    "  \"brand\": \"Ford\",\n",
    "  \"electric\": False,\n",
    "  \"year\": 1964,\n",
    "  \"colors\": [\"red\", \"white\", \"blue\"]\n",
    "}\n",
    "\n",
    "print(thisdict)"
   ]
  },
  {
   "cell_type": "code",
   "execution_count": 2,
   "id": "1846ae66-b107-42fe-918e-807b437097e9",
   "metadata": {},
   "outputs": [
    {
     "name": "stdout",
     "output_type": "stream",
     "text": [
      "['Pupil2']\n"
     ]
    }
   ],
   "source": [
    "def my_func(my_dict, value):\n",
    "    res_list = []\n",
    "    for n in my_dict:\n",
    "        if my_dict[n] == value:\n",
    "            res_list.append(n)\n",
    "    return res_list\n",
    "            \n",
    "\n",
    "thisdict = {\n",
    "  \"Pupil1\": 'male',\n",
    "  \"Pupil2\": 'female',\n",
    "  \"Pupil3\": 'male'\n",
    "}\n",
    "\n",
    "print(my_func(thisdict, 'female'))"
   ]
  }
 ],
 "metadata": {
  "kernelspec": {
   "display_name": "Python 3 (ipykernel)",
   "language": "python",
   "name": "python3"
  },
  "language_info": {
   "codemirror_mode": {
    "name": "ipython",
    "version": 3
   },
   "file_extension": ".py",
   "mimetype": "text/x-python",
   "name": "python",
   "nbconvert_exporter": "python",
   "pygments_lexer": "ipython3",
   "version": "3.11.7"
  }
 },
 "nbformat": 4,
 "nbformat_minor": 5
}
