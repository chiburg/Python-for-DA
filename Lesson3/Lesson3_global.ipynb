{
 "cells": [
  {
   "cell_type": "code",
   "execution_count": 3,
   "id": "ac1ecba2-0361-4858-a2d6-11429cad261c",
   "metadata": {},
   "outputs": [
    {
     "name": "stdout",
     "output_type": "stream",
     "text": [
      "None\n",
      "\n",
      "hello\n",
      "world\n"
     ]
    }
   ],
   "source": [
    "# створюємо функцію\n",
    "def myfunction():\n",
    "    global a\n",
    "    a = \"hello\"\n",
    "    b = \"world\"\n",
    "\n",
    "# виклик функції\n",
    "myfunction()\n",
    "print(myfunction())\n",
    "print()\n",
    "\n",
    "# значення змінних\n",
    "# a = a + b\n",
    "print(a)\n",
    "print(b)"
   ]
  }
 ],
 "metadata": {
  "kernelspec": {
   "display_name": "Python 3 (ipykernel)",
   "language": "python",
   "name": "python3"
  },
  "language_info": {
   "codemirror_mode": {
    "name": "ipython",
    "version": 3
   },
   "file_extension": ".py",
   "mimetype": "text/x-python",
   "name": "python",
   "nbconvert_exporter": "python",
   "pygments_lexer": "ipython3",
   "version": "3.11.7"
  }
 },
 "nbformat": 4,
 "nbformat_minor": 5
}
