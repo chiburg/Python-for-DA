{
 "cells": [
  {
   "cell_type": "code",
   "execution_count": 24,
   "id": "5fa90c50-9647-47f5-bff1-4bbfc06c0d68",
   "metadata": {},
   "outputs": [
    {
     "name": "stdout",
     "output_type": "stream",
     "text": [
      "Hefghfdhdfl'lo world!\n"
     ]
    }
   ],
   "source": [
    "print('Hefghfdhdfl\\'lo world!')"
   ]
  },
  {
   "cell_type": "code",
   "execution_count": 31,
   "id": "994d11cd-7aea-4f1d-b754-fa2661c498eb",
   "metadata": {},
   "outputs": [
    {
     "name": "stdin",
     "output_type": "stream",
     "text": [
      "Input your name:  22342\n"
     ]
    },
    {
     "name": "stdout",
     "output_type": "stream",
     "text": [
      "22342\n"
     ]
    }
   ],
   "source": [
    "name = input('Input your name: ')\n",
    "print(name)"
   ]
  },
  {
   "cell_type": "code",
   "execution_count": null,
   "id": "8446f8ff-039f-4053-a0ae-ae2909d953a8",
   "metadata": {},
   "outputs": [],
   "source": []
  },
  {
   "cell_type": "code",
   "execution_count": 25,
   "id": "785dd082-b536-4956-8ef7-9bf761d130cb",
   "metadata": {},
   "outputs": [
    {
     "name": "stdout",
     "output_type": "stream",
     "text": [
      "True\n",
      "rrr\n"
     ]
    }
   ],
   "source": [
    "test_variable = 2 > 1\n",
    "print(test_variable)\n",
    "test_variable = 'rrr'\n",
    "print(test_variable)"
   ]
  },
  {
   "cell_type": "markdown",
   "id": "595de6e1-c3c4-485a-ac14-bca9e16ab377",
   "metadata": {},
   "source": [
    "$$\n",
    "f(x) = \\int_{-\\infty}^{\\infty} e^{-d^2} dx\n",
    "$$"
   ]
  },
  {
   "cell_type": "code",
   "execution_count": 81,
   "id": "7b4d1365-66a0-4f3d-9f2e-e1e050761dd7",
   "metadata": {},
   "outputs": [
    {
     "name": "stdout",
     "output_type": "stream",
     "text": [
      "42\n"
     ]
    }
   ],
   "source": [
    "# x = int('2')\n",
    "# y = not (11 < 3 and 4 != 3 and 'd' in 'desk')\n",
    "g = 6\n",
    "g = g * 7\n",
    "# a = False\n",
    "# z = bool(a)\n",
    "# print(x)\n",
    "print(g)\n",
    "# print(z)"
   ]
  },
  {
   "cell_type": "code",
   "execution_count": 104,
   "id": "ae43d79f-c4b2-4e03-85bd-1e17a0ad1e1c",
   "metadata": {},
   "outputs": [
    {
     "name": "stdout",
     "output_type": "stream",
     "text": [
      "11\n",
      "4\n",
      "Yes\n",
      "2\n"
     ]
    }
   ],
   "source": [
    "a = 10\n",
    "b = 10 \n",
    "c = True\n",
    "if c:\n",
    "    if c + b:  \n",
    "        print(c + b)\n",
    "        print(4)\n",
    "if a > 5:\n",
    "    if a == b:\n",
    "        print('Yes')\n",
    "    else:\n",
    "        print('Partly')\n",
    "        print(1)\n",
    "    print(2)\n",
    "else:\n",
    "    print('No')"
   ]
  }
 ],
 "metadata": {
  "kernelspec": {
   "display_name": "Python 3 (ipykernel)",
   "language": "python",
   "name": "python3"
  },
  "language_info": {
   "codemirror_mode": {
    "name": "ipython",
    "version": 3
   },
   "file_extension": ".py",
   "mimetype": "text/x-python",
   "name": "python",
   "nbconvert_exporter": "python",
   "pygments_lexer": "ipython3",
   "version": "3.11.7"
  }
 },
 "nbformat": 4,
 "nbformat_minor": 5
}
