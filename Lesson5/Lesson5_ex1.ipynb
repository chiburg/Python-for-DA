{
 "cells": [
  {
   "cell_type": "code",
   "execution_count": null,
   "id": "a08a3f88-dd46-4931-9ba0-302fce9aed8d",
   "metadata": {},
   "outputs": [],
   "source": [
    "import pandas as pd\n",
    "\n",
    "students_data = {\n",
    "    'Імена': ['Anna', 'Bohdan', None],\n",
    "    'Вік': [21, None, 20],\n",
    "    'Спеціальність': ['Math', 'Physics', 'Biology']\n",
    "}\n",
    "\n",
    "students_df = pd.DataFrame(students_data)\n",
    "\n",
    "cleaned_df = students_df.dropna()\n",
    "print(cleaned_df)"
   ]
  }
 ],
 "metadata": {
  "kernelspec": {
   "display_name": "Python 3 (ipykernel)",
   "language": "python",
   "name": "python3"
  },
  "language_info": {
   "codemirror_mode": {
    "name": "ipython",
    "version": 3
   },
   "file_extension": ".py",
   "mimetype": "text/x-python",
   "name": "python",
   "nbconvert_exporter": "python",
   "pygments_lexer": "ipython3",
   "version": "3.11.7"
  }
 },
 "nbformat": 4,
 "nbformat_minor": 5
}
